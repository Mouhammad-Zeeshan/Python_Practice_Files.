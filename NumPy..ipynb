{
 "cells": [
  {
   "cell_type": "code",
   "execution_count": 1,
   "id": "c99f5181",
   "metadata": {},
   "outputs": [],
   "source": [
    "import pandas as pd \n",
    "import numpy as np\n"
   ]
  },
  {
   "cell_type": "code",
   "execution_count": 2,
   "id": "59efd743",
   "metadata": {},
   "outputs": [
    {
     "name": "stdout",
     "output_type": "stream",
     "text": [
      "[1 2 3]\n"
     ]
    }
   ],
   "source": [
    "n1 = np.array([1,2,3])     #Single dimensional array\n",
    "print(n1)"
   ]
  },
  {
   "cell_type": "code",
   "execution_count": 3,
   "id": "8be4323d",
   "metadata": {},
   "outputs": [
    {
     "data": {
      "text/plain": [
       "(3,)"
      ]
     },
     "execution_count": 3,
     "metadata": {},
     "output_type": "execute_result"
    }
   ],
   "source": [
    "n1\n",
    "n1.shape"
   ]
  },
  {
   "cell_type": "code",
   "execution_count": 4,
   "id": "cfb7c8da",
   "metadata": {},
   "outputs": [
    {
     "data": {
      "text/plain": [
       "array([1, 2, 3])"
      ]
     },
     "execution_count": 4,
     "metadata": {},
     "output_type": "execute_result"
    }
   ],
   "source": [
    "n1.view()\n"
   ]
  },
  {
   "cell_type": "code",
   "execution_count": null,
   "id": "888ba7e4",
   "metadata": {},
   "outputs": [],
   "source": []
  },
  {
   "cell_type": "code",
   "execution_count": 5,
   "id": "928ce437",
   "metadata": {},
   "outputs": [
    {
     "data": {
      "text/plain": [
       "(2, 3)"
      ]
     },
     "execution_count": 5,
     "metadata": {},
     "output_type": "execute_result"
    }
   ],
   "source": [
    "n2 = np.array([[10,20,25],[45,89,78]])    #multidemensional array\n",
    "n2\n",
    "n2.shape\n"
   ]
  },
  {
   "cell_type": "code",
   "execution_count": 6,
   "id": "6b207623",
   "metadata": {},
   "outputs": [
    {
     "data": {
      "text/plain": [
       "array([[10, 20, 25],\n",
       "       [45, 89, 78]])"
      ]
     },
     "execution_count": 6,
     "metadata": {},
     "output_type": "execute_result"
    }
   ],
   "source": [
    "n2"
   ]
  },
  {
   "cell_type": "code",
   "execution_count": 7,
   "id": "cd29019b",
   "metadata": {},
   "outputs": [],
   "source": [
    "n3 = np.array([[[1,2,3],[4,5,6],[6,7,8],[9,0,5]]])"
   ]
  },
  {
   "cell_type": "code",
   "execution_count": 8,
   "id": "de1dea95",
   "metadata": {},
   "outputs": [
    {
     "data": {
      "text/plain": [
       "(1, 4, 3)"
      ]
     },
     "execution_count": 8,
     "metadata": {},
     "output_type": "execute_result"
    }
   ],
   "source": [
    "n3.shape"
   ]
  },
  {
   "cell_type": "code",
   "execution_count": 9,
   "id": "323ffd1f",
   "metadata": {},
   "outputs": [
    {
     "data": {
      "text/plain": [
       "dtype('int32')"
      ]
     },
     "execution_count": 9,
     "metadata": {},
     "output_type": "execute_result"
    }
   ],
   "source": [
    "n3.dtype"
   ]
  },
  {
   "cell_type": "markdown",
   "id": "9eef1b5d",
   "metadata": {},
   "source": [
    "### Zeros: "
   ]
  },
  {
   "cell_type": "code",
   "execution_count": 10,
   "id": "1659c01d",
   "metadata": {},
   "outputs": [
    {
     "name": "stdout",
     "output_type": "stream",
     "text": [
      "[[0. 0. 0.]]\n"
     ]
    }
   ],
   "source": [
    "n4 = np.zeros((1,3))\n",
    "print(n4)"
   ]
  },
  {
   "cell_type": "code",
   "execution_count": 11,
   "id": "8d60e258",
   "metadata": {},
   "outputs": [
    {
     "name": "stdout",
     "output_type": "stream",
     "text": [
      "[[0. 0. 0.]\n",
      " [0. 0. 0.]]\n"
     ]
    }
   ],
   "source": [
    "n5 = np.zeros((2,3))\n",
    "print(n5)"
   ]
  },
  {
   "cell_type": "code",
   "execution_count": 12,
   "id": "1dbc5b76",
   "metadata": {},
   "outputs": [
    {
     "name": "stdout",
     "output_type": "stream",
     "text": [
      "[[0. 0. 0. 0. 0.]\n",
      " [0. 0. 0. 0. 0.]\n",
      " [0. 0. 0. 0. 0.]\n",
      " [0. 0. 0. 0. 0.]\n",
      " [0. 0. 0. 0. 0.]]\n"
     ]
    }
   ],
   "source": [
    "n6 = np.zeros((5,5))\n",
    "print(n6)"
   ]
  },
  {
   "cell_type": "code",
   "execution_count": 13,
   "id": "1c9c78bb",
   "metadata": {},
   "outputs": [
    {
     "name": "stdout",
     "output_type": "stream",
     "text": [
      "[[55 55 55 55 55]\n",
      " [55 55 55 55 55]\n",
      " [55 55 55 55 55]]\n"
     ]
    }
   ],
   "source": [
    "n7 = np.full((3,5),55)\n",
    "print(n7)"
   ]
  },
  {
   "cell_type": "code",
   "execution_count": 14,
   "id": "5882a349",
   "metadata": {},
   "outputs": [
    {
     "name": "stdout",
     "output_type": "stream",
     "text": [
      "[['a' 'a' 'a' 'a' 'a']\n",
      " ['a' 'a' 'a' 'a' 'a']\n",
      " ['a' 'a' 'a' 'a' 'a']]\n"
     ]
    }
   ],
   "source": [
    "n8 = np.full((3,5),'a')\n",
    "print(n8)"
   ]
  },
  {
   "cell_type": "markdown",
   "id": "30021789",
   "metadata": {},
   "source": [
    "###  arrange method."
   ]
  },
  {
   "cell_type": "code",
   "execution_count": 15,
   "id": "96c0b17b",
   "metadata": {},
   "outputs": [
    {
     "name": "stdout",
     "output_type": "stream",
     "text": [
      "[15 16 17 18 19 20]\n"
     ]
    }
   ],
   "source": [
    "n9 = np.arange(15,21)            # print range within parenthesis value \n",
    "print(n9)"
   ]
  },
  {
   "cell_type": "code",
   "execution_count": null,
   "id": "c21e175d",
   "metadata": {},
   "outputs": [],
   "source": [
    "\n"
   ]
  },
  {
   "cell_type": "code",
   "execution_count": 16,
   "id": "0d6aca42",
   "metadata": {},
   "outputs": [
    {
     "name": "stdout",
     "output_type": "stream",
     "text": [
      "[15 17 19]\n"
     ]
    }
   ],
   "source": [
    "n10 = np.arange(15,21,2)            # print range within parenthesis value \n",
    "print(n10)"
   ]
  },
  {
   "cell_type": "code",
   "execution_count": null,
   "id": "db12ddda",
   "metadata": {},
   "outputs": [],
   "source": []
  },
  {
   "cell_type": "markdown",
   "id": "042af6f0",
   "metadata": {},
   "source": [
    "### Random:\n"
   ]
  },
  {
   "cell_type": "code",
   "execution_count": 17,
   "id": "e75e3bd6",
   "metadata": {},
   "outputs": [
    {
     "name": "stdout",
     "output_type": "stream",
     "text": [
      "[47 28 27]\n"
     ]
    }
   ],
   "source": [
    "n11 = np.random.randint(1,50,3)\n",
    "print(n11)"
   ]
  },
  {
   "cell_type": "code",
   "execution_count": null,
   "id": "6d304624",
   "metadata": {},
   "outputs": [],
   "source": []
  },
  {
   "cell_type": "markdown",
   "id": "1c709b81",
   "metadata": {},
   "source": [
    "###  Stack:"
   ]
  },
  {
   "cell_type": "code",
   "execution_count": 18,
   "id": "75d71799",
   "metadata": {},
   "outputs": [],
   "source": [
    "n12 = np.array([[1,5,7,9,4],\n",
    "               [7,9,4,6,1],\n",
    "                [7,9,1,3,7]]\n",
    ")"
   ]
  },
  {
   "cell_type": "code",
   "execution_count": 19,
   "id": "76a0445b",
   "metadata": {},
   "outputs": [
    {
     "name": "stdout",
     "output_type": "stream",
     "text": [
      "[[1 5 7 9 4]\n",
      " [7 9 4 6 1]\n",
      " [7 9 1 3 7]]\n"
     ]
    }
   ],
   "source": [
    "print(n12)"
   ]
  },
  {
   "cell_type": "code",
   "execution_count": 20,
   "id": "308edee8",
   "metadata": {},
   "outputs": [
    {
     "data": {
      "text/plain": [
       "(3, 5)"
      ]
     },
     "execution_count": 20,
     "metadata": {},
     "output_type": "execute_result"
    }
   ],
   "source": [
    "n12.shape"
   ]
  },
  {
   "cell_type": "code",
   "execution_count": 21,
   "id": "b920c033",
   "metadata": {},
   "outputs": [
    {
     "name": "stdout",
     "output_type": "stream",
     "text": [
      "[[1 5 7]\n",
      " [9 4 7]\n",
      " [9 4 6]\n",
      " [1 7 9]\n",
      " [1 3 7]]\n"
     ]
    }
   ],
   "source": [
    "n12.shape = (5,3)\n",
    "print(n12)"
   ]
  },
  {
   "cell_type": "code",
   "execution_count": 22,
   "id": "ead024db",
   "metadata": {},
   "outputs": [
    {
     "name": "stdout",
     "output_type": "stream",
     "text": [
      "[1 2 3]\n",
      "[[10 20 25]\n",
      " [45 89 78]]\n"
     ]
    }
   ],
   "source": [
    "print(n1)\n",
    "print(n2)"
   ]
  },
  {
   "cell_type": "code",
   "execution_count": 23,
   "id": "1c10b398",
   "metadata": {},
   "outputs": [
    {
     "data": {
      "text/plain": [
       "array([[ 1,  2,  3],\n",
       "       [10, 20, 25],\n",
       "       [45, 89, 78]])"
      ]
     },
     "execution_count": 23,
     "metadata": {},
     "output_type": "execute_result"
    }
   ],
   "source": [
    "np.vstack((n1,n2))        #Vertical Staack"
   ]
  },
  {
   "cell_type": "code",
   "execution_count": 24,
   "id": "a14d0957",
   "metadata": {},
   "outputs": [],
   "source": [
    "n = np.array([10,20,30])\n",
    "m = np.array([40,50,60])"
   ]
  },
  {
   "cell_type": "code",
   "execution_count": 25,
   "id": "164677aa",
   "metadata": {},
   "outputs": [
    {
     "data": {
      "text/plain": [
       "array([10, 20, 30, 40, 50, 60])"
      ]
     },
     "execution_count": 25,
     "metadata": {},
     "output_type": "execute_result"
    }
   ],
   "source": [
    "np.hstack((n,m))          #  Horizental Stack"
   ]
  },
  {
   "cell_type": "code",
   "execution_count": null,
   "id": "cb1e45df",
   "metadata": {},
   "outputs": [],
   "source": [
    "\n"
   ]
  },
  {
   "cell_type": "code",
   "execution_count": 26,
   "id": "58e9dfb8",
   "metadata": {},
   "outputs": [
    {
     "data": {
      "text/plain": [
       "array([[10, 40],\n",
       "       [20, 50],\n",
       "       [30, 60]])"
      ]
     },
     "execution_count": 26,
     "metadata": {},
     "output_type": "execute_result"
    }
   ],
   "source": [
    "np.column_stack((n,m))"
   ]
  },
  {
   "cell_type": "code",
   "execution_count": null,
   "id": "1a4c7260",
   "metadata": {},
   "outputs": [],
   "source": []
  },
  {
   "cell_type": "markdown",
   "id": "94a0570e",
   "metadata": {},
   "source": [
    "### Array Intersection and Difference. "
   ]
  },
  {
   "cell_type": "code",
   "execution_count": null,
   "id": "cd883e06",
   "metadata": {},
   "outputs": [],
   "source": []
  },
  {
   "cell_type": "code",
   "execution_count": 27,
   "id": "d86cf3a5",
   "metadata": {},
   "outputs": [
    {
     "name": "stdout",
     "output_type": "stream",
     "text": [
      "[10 20 30 40 50 60]\n",
      "[50 60 70 80 90]\n"
     ]
    }
   ],
   "source": [
    "n13 = np.arange(10,61,10)\n",
    "n14 = np.arange(50,91,10)\n",
    "print(n13)\n",
    "print(n14)\n"
   ]
  },
  {
   "cell_type": "code",
   "execution_count": 28,
   "id": "1df58127",
   "metadata": {},
   "outputs": [
    {
     "data": {
      "text/plain": [
       "array([50, 60])"
      ]
     },
     "execution_count": 28,
     "metadata": {},
     "output_type": "execute_result"
    }
   ],
   "source": [
    "np.intersect1d(n13,n14)"
   ]
  },
  {
   "cell_type": "code",
   "execution_count": 29,
   "id": "007ac741",
   "metadata": {},
   "outputs": [
    {
     "data": {
      "text/plain": [
       "array([10, 20, 30, 40])"
      ]
     },
     "execution_count": 29,
     "metadata": {},
     "output_type": "execute_result"
    }
   ],
   "source": [
    "np.setdiff1d(n13,n14)"
   ]
  },
  {
   "cell_type": "code",
   "execution_count": 30,
   "id": "0c87755a",
   "metadata": {},
   "outputs": [
    {
     "data": {
      "text/plain": [
       "array([70, 80, 90])"
      ]
     },
     "execution_count": 30,
     "metadata": {},
     "output_type": "execute_result"
    }
   ],
   "source": [
    "np.setdiff1d(n14,n13)"
   ]
  },
  {
   "cell_type": "code",
   "execution_count": 31,
   "id": "2d7819e2",
   "metadata": {},
   "outputs": [
    {
     "data": {
      "text/plain": [
       "array([], dtype=int32)"
      ]
     },
     "execution_count": 31,
     "metadata": {},
     "output_type": "execute_result"
    }
   ],
   "source": [
    "np.setdiff1d(n14,n14)"
   ]
  },
  {
   "cell_type": "code",
   "execution_count": null,
   "id": "a8de724f",
   "metadata": {},
   "outputs": [],
   "source": [
    " "
   ]
  },
  {
   "cell_type": "markdown",
   "id": "65cf6c07",
   "metadata": {},
   "source": [
    "### Useful Attribute: "
   ]
  },
  {
   "cell_type": "code",
   "execution_count": 32,
   "id": "a7761db0",
   "metadata": {},
   "outputs": [
    {
     "name": "stdout",
     "output_type": "stream",
     "text": [
      "[[1 5 7]\n",
      " [9 4 7]\n",
      " [9 4 6]\n",
      " [1 7 9]\n",
      " [1 3 7]]\n"
     ]
    }
   ],
   "source": [
    "print(n12)"
   ]
  },
  {
   "cell_type": "code",
   "execution_count": 33,
   "id": "7edeb9f0",
   "metadata": {},
   "outputs": [
    {
     "data": {
      "text/plain": [
       "2"
      ]
     },
     "execution_count": 33,
     "metadata": {},
     "output_type": "execute_result"
    }
   ],
   "source": [
    "n12.ndim"
   ]
  },
  {
   "cell_type": "code",
   "execution_count": 34,
   "id": "d0b07b9d",
   "metadata": {},
   "outputs": [
    {
     "data": {
      "text/plain": [
       "(5, 3)"
      ]
     },
     "execution_count": 34,
     "metadata": {},
     "output_type": "execute_result"
    }
   ],
   "source": [
    "n12.shape"
   ]
  },
  {
   "cell_type": "code",
   "execution_count": 35,
   "id": "07433635",
   "metadata": {},
   "outputs": [
    {
     "data": {
      "text/plain": [
       "15"
      ]
     },
     "execution_count": 35,
     "metadata": {},
     "output_type": "execute_result"
    }
   ],
   "source": [
    "n12.size"
   ]
  },
  {
   "cell_type": "code",
   "execution_count": 36,
   "id": "f7fa15fa",
   "metadata": {},
   "outputs": [
    {
     "data": {
      "text/plain": [
       "dtype('int32')"
      ]
     },
     "execution_count": 36,
     "metadata": {},
     "output_type": "execute_result"
    }
   ],
   "source": [
    "n12.dtype"
   ]
  },
  {
   "cell_type": "code",
   "execution_count": 37,
   "id": "5900b0b4",
   "metadata": {},
   "outputs": [
    {
     "data": {
      "text/plain": [
       "4"
      ]
     },
     "execution_count": 37,
     "metadata": {},
     "output_type": "execute_result"
    }
   ],
   "source": [
    "n12.itemsize"
   ]
  },
  {
   "cell_type": "code",
   "execution_count": null,
   "id": "062ebd2b",
   "metadata": {},
   "outputs": [],
   "source": []
  },
  {
   "cell_type": "markdown",
   "id": "6b7f0064",
   "metadata": {},
   "source": [
    "###  Reading Images."
   ]
  },
  {
   "cell_type": "code",
   "execution_count": 44,
   "id": "b0ff8105",
   "metadata": {},
   "outputs": [],
   "source": [
    "import matplotlib.pyplot as plt\n",
    "import matplotlib.image as mpimg"
   ]
  },
  {
   "cell_type": "code",
   "execution_count": 45,
   "id": "07836def",
   "metadata": {},
   "outputs": [
    {
     "data": {
      "image/png": "[encoded data removed]",
      "text/plain": [
       "<Figure size 432x288 with 1 Axes>"
      ]
     },
     "metadata": {
      "needs_background": "light"
     },
     "output_type": "display_data"
    }
   ],
   "source": [
    "img = mpimg.imread('Passport size photo.jpg')\n",
    "imgplot = plt.imshow(img)\n",
    "plt.show()\n"
   ]
  },
  {
   "cell_type": "code",
   "execution_count": 46,
   "id": "fb09210e",
   "metadata": {},
   "outputs": [
    {
     "data": {
      "image/png": "[encoded data removed]",
      "text/plain": [
       "<Figure size 432x288 with 1 Axes>"
      ]
     },
     "metadata": {
      "needs_background": "light"
     },
     "output_type": "display_data"
    }
   ],
   "source": [
    "imgplot = plt.imshow(img, cmap = 'gray')\n",
    "plt.show()\n"
   ]
  },
  {
   "cell_type": "code",
   "execution_count": 48,
   "id": "13a4d61a",
   "metadata": {},
   "outputs": [
    {
     "data": {
      "text/plain": [
       "<Figure size 720x720 with 0 Axes>"
      ]
     },
     "metadata": {},
     "output_type": "display_data"
    }
   ],
   "source": [
    "plt.figure(figsize = (10,10))\n",
    "plt.show()"
   ]
  },
  {
   "cell_type": "code",
   "execution_count": null,
   "id": "fd4bb48b",
   "metadata": {},
   "outputs": [],
   "source": []
  }
 ],
 "metadata": {
  "kernelspec": {
   "display_name": "Python 3 (ipykernel)",
   "language": "python",
   "name": "python3"
  },
  "language_info": {
   "codemirror_mode": {
    "name": "ipython",
    "version": 3
   },
   "file_extension": ".py",
   "mimetype": "text/x-python",
   "name": "python",
   "nbconvert_exporter": "python",
   "pygments_lexer": "ipython3",
   "version": "3.9.12"
  }
 },
 "nbformat": 4,
 "nbformat_minor": 5
}
