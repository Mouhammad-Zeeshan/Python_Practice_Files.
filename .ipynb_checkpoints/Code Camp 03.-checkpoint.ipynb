{
 "cells": [
  {
   "cell_type": "code",
   "execution_count": 72,
   "id": "74eb9ea4",
   "metadata": {},
   "outputs": [
    {
     "name": "stdout",
     "output_type": "stream",
     "text": [
      "Enter a number please: -24.489\n",
      "- 24\n",
      "NUmber is even\n"
     ]
    }
   ],
   "source": [
    "x = float(input(\"Enter a number please: \"))\n",
    "\n",
    "\n",
    "if x>0:\n",
    "    y = round(x)\n",
    "    if y>x: \n",
    "        integer1 = y-1   \n",
    "    else:\n",
    "        integer1 = y\n",
    "    print(integer1)\n",
    "\n",
    "else:\n",
    "    z = round(x * (-1))\n",
    "    if z>(x*-1): \n",
    "        integer1 = z-1   \n",
    "    else:\n",
    "        integer1 = z\n",
    "    print(\"-\", integer1)\n",
    "\n",
    "if integer1%2==0:\n",
    "    print(\"NUmber is even\")\n",
    "else:\n",
    "    print(\"Number is not even\")\n"
   ]
  },
  {
   "cell_type": "code",
   "execution_count": null,
   "id": "25bfc1ea",
   "metadata": {},
   "outputs": [],
   "source": []
  },
  {
   "cell_type": "code",
   "execution_count": 76,
   "id": "33b2f969",
   "metadata": {},
   "outputs": [
    {
     "name": "stdout",
     "output_type": "stream",
     "text": [
      "Enter a number please: -24.58\n",
      "NUmber is even\n"
     ]
    }
   ],
   "source": [
    "x = float(input(\"Enter a number please: \"))\n",
    "\n",
    "\n",
    "if x>0:\n",
    "    y = round(x)\n",
    "    if y>x: \n",
    "        integer1 = y-1   \n",
    "    else:\n",
    "        integer1 = y\n",
    "    \n",
    "\n",
    "else:\n",
    "    z = round(x * (-1))\n",
    "    if z>(x*-1): \n",
    "        integer1 = z-1   \n",
    "    else:\n",
    "        integer1 = z\n",
    "    \n",
    "\n",
    "if integer1%2==0:\n",
    "    print(\"NUmber is even\")\n",
    "else:\n",
    "    print(\"Number is not even\")\n"
   ]
  },
  {
   "cell_type": "code",
   "execution_count": null,
   "id": "dd739f2d",
   "metadata": {},
   "outputs": [],
   "source": []
  },
  {
   "cell_type": "code",
   "execution_count": null,
   "id": "838ec2f2",
   "metadata": {},
   "outputs": [],
   "source": []
  }
 ],
 "metadata": {
  "kernelspec": {
   "display_name": "Python 3 (ipykernel)",
   "language": "python",
   "name": "python3"
  },
  "language_info": {
   "codemirror_mode": {
    "name": "ipython",
    "version": 3
   },
   "file_extension": ".py",
   "mimetype": "text/x-python",
   "name": "python",
   "nbconvert_exporter": "python",
   "pygments_lexer": "ipython3",
   "version": "3.9.7"
  }
 },
 "nbformat": 4,
 "nbformat_minor": 5
}
