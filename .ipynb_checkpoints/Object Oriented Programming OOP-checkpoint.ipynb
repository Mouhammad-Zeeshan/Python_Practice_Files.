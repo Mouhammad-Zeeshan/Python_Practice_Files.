{
 "cells": [
  {
   "cell_type": "markdown",
   "id": "864967d4",
   "metadata": {},
   "source": [
    "# Object Oriented Programming."
   ]
  },
  {
   "cell_type": "code",
   "execution_count": 1,
   "id": "b021a558",
   "metadata": {},
   "outputs": [],
   "source": [
    "class Phone():\n",
    "    \n",
    "    def set_color(self, color):\n",
    "        self.color = color\n",
    "    \n",
    "    def set_cost(self,cost):\n",
    "        self.cost = cost\n",
    "        \n",
    "    def show_color(self):\n",
    "        return self.color\n",
    "    \n",
    "    def show_cost(self):\n",
    "        return self.cost\n",
    "    def make_call(self):\n",
    "        print(\"Making Call\")\n",
    "    def play_game(self):\n",
    "        print(\"plaing Game\")"
   ]
  },
  {
   "cell_type": "code",
   "execution_count": 2,
   "id": "c19d4938",
   "metadata": {},
   "outputs": [],
   "source": [
    "p1 = Phone()"
   ]
  },
  {
   "cell_type": "code",
   "execution_count": 3,
   "id": "daf51098",
   "metadata": {},
   "outputs": [
    {
     "name": "stdout",
     "output_type": "stream",
     "text": [
      "Making Call\n"
     ]
    }
   ],
   "source": [
    "p1.make_call()\n"
   ]
  },
  {
   "cell_type": "code",
   "execution_count": 4,
   "id": "797dd9a6",
   "metadata": {},
   "outputs": [
    {
     "name": "stdout",
     "output_type": "stream",
     "text": [
      "plaing Game\n"
     ]
    }
   ],
   "source": [
    "p1.play_game()"
   ]
  },
  {
   "cell_type": "code",
   "execution_count": 5,
   "id": "8c71c81c",
   "metadata": {},
   "outputs": [],
   "source": [
    "p1.set_color(\"Black\")"
   ]
  },
  {
   "cell_type": "code",
   "execution_count": 6,
   "id": "dad453c9",
   "metadata": {},
   "outputs": [],
   "source": [
    "p1.set_cost(3500000)"
   ]
  },
  {
   "cell_type": "code",
   "execution_count": 7,
   "id": "57e95d29",
   "metadata": {},
   "outputs": [
    {
     "data": {
      "text/plain": [
       "'Black'"
      ]
     },
     "execution_count": 7,
     "metadata": {},
     "output_type": "execute_result"
    }
   ],
   "source": [
    "p1.show_color()"
   ]
  },
  {
   "cell_type": "code",
   "execution_count": 8,
   "id": "9b760858",
   "metadata": {},
   "outputs": [
    {
     "data": {
      "text/plain": [
       "3500000"
      ]
     },
     "execution_count": 8,
     "metadata": {},
     "output_type": "execute_result"
    }
   ],
   "source": [
    "p1.show_cost()"
   ]
  },
  {
   "cell_type": "code",
   "execution_count": 9,
   "id": "22d5cc52",
   "metadata": {},
   "outputs": [],
   "source": [
    "class Employee():\n",
    "    \n",
    "    def __init__(self, name, age,gender,salary): # Define Attributes\n",
    "        self.name = name\n",
    "        self.age  = age\n",
    "        self.gender = gender\n",
    "        self.salary = salary\n",
    "   \n",
    "    def employee_details(self): # Actions and Behavior\n",
    "        \n",
    "        print(\"Name of Employee is\", self.name)\n",
    "        print(\"age of\", self.name, \"is\", self.age)\n",
    "        print(\"Gender of\", self.name, \"is\", self.gender)\n",
    "        print(\"Salary of\", self.name, \"is\", self.salary)\n",
    "            "
   ]
  },
  {
   "cell_type": "code",
   "execution_count": 10,
   "id": "f53f7f4b",
   "metadata": {},
   "outputs": [],
   "source": [
    "e1 = Employee(\"Muhammad Zeeshan\",'35',\"Male\",\"35000 Rs\")"
   ]
  },
  {
   "cell_type": "code",
   "execution_count": 11,
   "id": "608d0da5",
   "metadata": {},
   "outputs": [
    {
     "name": "stdout",
     "output_type": "stream",
     "text": [
      "Name of Employee is Muhammad Zeeshan\n",
      "age of Muhammad Zeeshan is 35\n",
      "Gender of Muhammad Zeeshan is Male\n",
      "Salary of Muhammad Zeeshan is 35000 Rs\n"
     ]
    }
   ],
   "source": [
    "e1.employee_details()"
   ]
  },
  {
   "cell_type": "code",
   "execution_count": 12,
   "id": "1626cbed",
   "metadata": {},
   "outputs": [
    {
     "name": "stdout",
     "output_type": "stream",
     "text": [
      "Muhammad Zeeshan\n",
      "35\n",
      "Male\n",
      "35000 Rs\n"
     ]
    }
   ],
   "source": [
    "print(e1.name,\n",
    "      e1.age,\n",
    "      e1.gender,\n",
    "        e1.salary, sep = '\\n')"
   ]
  },
  {
   "cell_type": "markdown",
   "id": "f0d53ddb",
   "metadata": {},
   "source": [
    "# 1 - Inheritance:\n",
    "## Make a Parent Class: "
   ]
  },
  {
   "cell_type": "code",
   "execution_count": 13,
   "id": "48b97866",
   "metadata": {},
   "outputs": [],
   "source": [
    "class Vehicle():         # Parent Class\n",
    "    def __init__(self,make,color,cost,mileage):\n",
    "        self.make = make\n",
    "        self.color = color\n",
    "        self.cost = cost\n",
    "        self.mileage = mileage\n",
    "    \n",
    "    def vehicle_details(self):\n",
    "       \n",
    "        print(\"Model of Vehicle is\", self.make)\n",
    "        print(\"color of Vehicle is\", self.color)\n",
    "        print(\"Cost of Vehicle is \", self.cost)\n",
    "        print(\"Mileage of Vehicle is\", self.mileage)\n",
    "        "
   ]
  },
  {
   "cell_type": "code",
   "execution_count": 14,
   "id": "b8edd37f",
   "metadata": {},
   "outputs": [],
   "source": [
    "v1 = Vehicle('Suzuki', 'Black', '$ 905','600000' )"
   ]
  },
  {
   "cell_type": "code",
   "execution_count": 15,
   "id": "f370bbd8",
   "metadata": {},
   "outputs": [
    {
     "data": {
      "text/plain": [
       "'Black'"
      ]
     },
     "execution_count": 15,
     "metadata": {},
     "output_type": "execute_result"
    }
   ],
   "source": [
    "v1.color"
   ]
  },
  {
   "cell_type": "code",
   "execution_count": 16,
   "id": "7144197c",
   "metadata": {},
   "outputs": [
    {
     "name": "stdout",
     "output_type": "stream",
     "text": [
      "Model of Vehicle is Suzuki\n",
      "color of Vehicle is Black\n",
      "Cost of Vehicle is  $ 905\n",
      "Mileage of Vehicle is 600000\n"
     ]
    }
   ],
   "source": [
    "v1.vehicle_details()"
   ]
  },
  {
   "cell_type": "markdown",
   "id": "2a95da52",
   "metadata": {},
   "source": [
    "### Lets Build Child Class: "
   ]
  },
  {
   "cell_type": "code",
   "execution_count": 17,
   "id": "c450736c",
   "metadata": {},
   "outputs": [],
   "source": [
    "class Car(Vehicle):    # Child Class\n",
    "    \n",
    "    def show_Vehicle_type(self):\n",
    "        print(\"I am a Car\")"
   ]
  },
  {
   "cell_type": "code",
   "execution_count": 18,
   "id": "6b45b517",
   "metadata": {},
   "outputs": [],
   "source": [
    "c1 = Car('Corolla','White', '3,500,000 Rs', 0)"
   ]
  },
  {
   "cell_type": "code",
   "execution_count": 19,
   "id": "d41d9800",
   "metadata": {},
   "outputs": [
    {
     "name": "stdout",
     "output_type": "stream",
     "text": [
      "I am a Car\n"
     ]
    }
   ],
   "source": [
    "c1.show_Vehicle_type()"
   ]
  },
  {
   "cell_type": "code",
   "execution_count": 20,
   "id": "cafe762d",
   "metadata": {},
   "outputs": [
    {
     "name": "stdout",
     "output_type": "stream",
     "text": [
      "Model of Vehicle is Corolla\n",
      "color of Vehicle is White\n",
      "Cost of Vehicle is  3,500,000 Rs\n",
      "Mileage of Vehicle is 0\n"
     ]
    }
   ],
   "source": [
    "c1.vehicle_details()"
   ]
  },
  {
   "cell_type": "markdown",
   "id": "ac242c91",
   "metadata": {},
   "source": [
    "## Over Riding on Init method. "
   ]
  },
  {
   "cell_type": "code",
   "execution_count": 21,
   "id": "836f493e",
   "metadata": {},
   "outputs": [],
   "source": [
    "class Bike(Vehicle):\n",
    "    def __init__(self,make,color,cost,mileage,no_of_tyres):\n",
    "        super().__init__(make,color,cost,mileage)\n",
    "        self.no_of_tyres = no_of_tyres\n",
    "    def bike_details(self):\n",
    "        print(\"Model of Bike is\", self.make)\n",
    "        print(\"color of Bike is\", self.color)\n",
    "        print(\"Cost of Bike is \", self.cost)\n",
    "        print(\"Mileage of Bike is\", self.mileage)\n",
    "        print(\"Tyres of Bike are\", self.no_of_tyres)"
   ]
  },
  {
   "cell_type": "code",
   "execution_count": 22,
   "id": "2aec1a07",
   "metadata": {},
   "outputs": [],
   "source": [
    "b1 = Bike(\"Honda\",\"Black and Red\", \"125K Rs\", 0 , 2 )"
   ]
  },
  {
   "cell_type": "markdown",
   "id": "c1f705e4",
   "metadata": {},
   "source": [
    " "
   ]
  },
  {
   "cell_type": "code",
   "execution_count": 23,
   "id": "3165bce0",
   "metadata": {},
   "outputs": [
    {
     "name": "stdout",
     "output_type": "stream",
     "text": [
      "Model of Bike is Honda\n",
      "color of Bike is Black and Red\n",
      "Cost of Bike is  125K Rs\n",
      "Mileage of Bike is 0\n",
      "Tyres of Bike are 2\n"
     ]
    }
   ],
   "source": [
    "b1.bike_details()"
   ]
  },
  {
   "cell_type": "code",
   "execution_count": 24,
   "id": "d2712b9e",
   "metadata": {},
   "outputs": [
    {
     "name": "stdout",
     "output_type": "stream",
     "text": [
      "Model of Vehicle is Honda\n",
      "color of Vehicle is Black and Red\n",
      "Cost of Vehicle is  125K Rs\n",
      "Mileage of Vehicle is 0\n"
     ]
    }
   ],
   "source": [
    "b1.vehicle_details()"
   ]
  },
  {
   "cell_type": "code",
   "execution_count": null,
   "id": "52b413d0",
   "metadata": {},
   "outputs": [],
   "source": []
  },
  {
   "cell_type": "markdown",
   "id": "a5ff7c01",
   "metadata": {},
   "source": [
    "## OOPs With Telusko:\n"
   ]
  },
  {
   "cell_type": "code",
   "execution_count": 21,
   "id": "cdf72e55",
   "metadata": {},
   "outputs": [
    {
     "name": "stdout",
     "output_type": "stream",
     "text": [
      "ab 44\n"
     ]
    }
   ],
   "source": [
    "class Computer:\n",
    "    def __init__(self,cpu,ram):\n",
    "        self.cpu = cpu\n",
    "        self.ram = ram\n",
    "        print(self.cpu, self.ram)\n",
    "    \n",
    "    \n",
    "    \n",
    "    def config(self):\n",
    "        print(\"Corem3, 7th generataion\")\n",
    "\n",
    "comp1 = Computer('ab',44)\n",
    "\n"
   ]
  },
  {
   "cell_type": "code",
   "execution_count": 22,
   "id": "1a51929f",
   "metadata": {},
   "outputs": [
    {
     "name": "stdout",
     "output_type": "stream",
     "text": [
      "<class '__main__.Computer'>\n"
     ]
    }
   ],
   "source": [
    "print(type(comp1))"
   ]
  },
  {
   "cell_type": "code",
   "execution_count": 23,
   "id": "19520afb",
   "metadata": {},
   "outputs": [
    {
     "name": "stdout",
     "output_type": "stream",
     "text": [
      "Corem3, 7th generataion\n"
     ]
    }
   ],
   "source": [
    "comp1.config()\n"
   ]
  },
  {
   "cell_type": "code",
   "execution_count": 24,
   "id": "6c17f721",
   "metadata": {},
   "outputs": [
    {
     "name": "stdout",
     "output_type": "stream",
     "text": [
      "Corem3, 7th generataion\n"
     ]
    }
   ],
   "source": [
    "Computer.config(comp1)"
   ]
  },
  {
   "cell_type": "code",
   "execution_count": 26,
   "id": "6f7f15e7",
   "metadata": {},
   "outputs": [
    {
     "name": "stdout",
     "output_type": "stream",
     "text": [
      "P-14 256gb\n"
     ]
    }
   ],
   "source": [
    "comp1 = Computer('P-14','256gb')"
   ]
  },
  {
   "cell_type": "code",
   "execution_count": null,
   "id": "a240be34",
   "metadata": {},
   "outputs": [],
   "source": []
  },
  {
   "cell_type": "code",
   "execution_count": null,
   "id": "1c690372",
   "metadata": {},
   "outputs": [],
   "source": []
  },
  {
   "cell_type": "code",
   "execution_count": null,
   "id": "5059df58",
   "metadata": {},
   "outputs": [],
   "source": []
  }
 ],
 "metadata": {
  "kernelspec": {
   "display_name": "Python 3 (ipykernel)",
   "language": "python",
   "name": "python3"
  },
  "language_info": {
   "codemirror_mode": {
    "name": "ipython",
    "version": 3
   },
   "file_extension": ".py",
   "mimetype": "text/x-python",
   "name": "python",
   "nbconvert_exporter": "python",
   "pygments_lexer": "ipython3",
   "version": "3.9.12"
  }
 },
 "nbformat": 4,
 "nbformat_minor": 5
}
