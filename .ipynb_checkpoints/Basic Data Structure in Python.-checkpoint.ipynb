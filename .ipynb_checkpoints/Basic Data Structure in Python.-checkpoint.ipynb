{
 "cells": [
  {
   "cell_type": "markdown",
   "id": "caed1def",
   "metadata": {},
   "source": [
    "# Basic Data Structure:\n",
    "  ## There are four types of basic data structure.\n",
    "  \n",
    "  ### 01- Tuple\n",
    "  ### 02- List\n",
    "  ### 03- Dictionaries\n",
    "  ### 04- Sets\n",
    "  \n",
    "    "
   ]
  },
  {
   "cell_type": "markdown",
   "id": "72eb9bb2",
   "metadata": {},
   "source": [
    "## 01 - TUPLES:"
   ]
  },
  {
   "cell_type": "code",
   "execution_count": 1,
   "id": "18ea3c8f",
   "metadata": {},
   "outputs": [],
   "source": [
    "# A tuple is an ordered collection of elements ( Elements: String, Integer, Float and Binaray)\n",
    "# It is enclosed by round () parenthesis.\n",
    "# once sored value in tuple can not be changed that means tuples are immutable."
   ]
  },
  {
   "cell_type": "code",
   "execution_count": 11,
   "id": "6438f36c",
   "metadata": {},
   "outputs": [],
   "source": [
    "tup_01 =  (2, 3.5, \"Muhammad\",True)"
   ]
  },
  {
   "cell_type": "code",
   "execution_count": 12,
   "id": "614c4947",
   "metadata": {},
   "outputs": [
    {
     "data": {
      "text/plain": [
       "(2, 3.5, 'Muhammad', True)"
      ]
     },
     "execution_count": 12,
     "metadata": {},
     "output_type": "execute_result"
    }
   ],
   "source": [
    "tup_01"
   ]
  },
  {
   "cell_type": "code",
   "execution_count": 4,
   "id": "73c5922f",
   "metadata": {},
   "outputs": [],
   "source": [
    "# Here above each element is member of tuple orderly from 0 to 3,"
   ]
  },
  {
   "cell_type": "code",
   "execution_count": 13,
   "id": "408590d7",
   "metadata": {},
   "outputs": [
    {
     "data": {
      "text/plain": [
       "'Muhammad'"
      ]
     },
     "execution_count": 13,
     "metadata": {},
     "output_type": "execute_result"
    }
   ],
   "source": [
    "tup_01[2]"
   ]
  },
  {
   "cell_type": "code",
   "execution_count": 15,
   "id": "dde23867",
   "metadata": {},
   "outputs": [
    {
     "ename": "IndexError",
     "evalue": "tuple index out of range",
     "output_type": "error",
     "traceback": [
      "\u001b[1;31m---------------------------------------------------------------------------\u001b[0m",
      "\u001b[1;31mIndexError\u001b[0m                                Traceback (most recent call last)",
      "\u001b[1;32mC:\\Users\\MUHAMM~1\\AppData\\Local\\Temp/ipykernel_13016/2267143775.py\u001b[0m in \u001b[0;36m<module>\u001b[1;34m\u001b[0m\n\u001b[1;32m----> 1\u001b[1;33m \u001b[0mtup_01\u001b[0m\u001b[1;33m[\u001b[0m\u001b[1;36m4\u001b[0m\u001b[1;33m]\u001b[0m    \u001b[1;31m# Because this position does not exist here.\u001b[0m\u001b[1;33m\u001b[0m\u001b[1;33m\u001b[0m\u001b[0m\n\u001b[0m",
      "\u001b[1;31mIndexError\u001b[0m: tuple index out of range"
     ]
    }
   ],
   "source": [
    "tup_01[4]    # Because this position does not exist here."
   ]
  },
  {
   "cell_type": "code",
   "execution_count": 14,
   "id": "ecdff0b1",
   "metadata": {},
   "outputs": [
    {
     "data": {
      "text/plain": [
       "2"
      ]
     },
     "execution_count": 14,
     "metadata": {},
     "output_type": "execute_result"
    }
   ],
   "source": [
    "tup_01[0]"
   ]
  },
  {
   "cell_type": "code",
   "execution_count": null,
   "id": "a9960b59",
   "metadata": {},
   "outputs": [],
   "source": []
  },
  {
   "cell_type": "code",
   "execution_count": 33,
   "id": "b70ab820",
   "metadata": {},
   "outputs": [],
   "source": [
    "tup_02 = (5, 9.75, \" Zeeshan\", False)"
   ]
  },
  {
   "cell_type": "code",
   "execution_count": 34,
   "id": "e2c5d39d",
   "metadata": {},
   "outputs": [
    {
     "data": {
      "text/plain": [
       "(5, 9.75, ' Zeeshan', False)"
      ]
     },
     "execution_count": 34,
     "metadata": {},
     "output_type": "execute_result"
    }
   ],
   "source": [
    "tup_02"
   ]
  },
  {
   "cell_type": "code",
   "execution_count": 35,
   "id": "27c48bfa",
   "metadata": {},
   "outputs": [
    {
     "data": {
      "text/plain": [
       "(2, 3.5, 'Muhammad', True, 5, 9.75, ' Zeeshan', False)"
      ]
     },
     "execution_count": 35,
     "metadata": {},
     "output_type": "execute_result"
    }
   ],
   "source": [
    "tup_01 + tup_02"
   ]
  },
  {
   "cell_type": "code",
   "execution_count": 36,
   "id": "cbee16b4",
   "metadata": {},
   "outputs": [
    {
     "data": {
      "text/plain": [
       "(2, 3.5, 'Muhammad', True, 2, 3.5, 'Muhammad', True, 2, 3.5, 'Muhammad', True)"
      ]
     },
     "execution_count": 36,
     "metadata": {},
     "output_type": "execute_result"
    }
   ],
   "source": [
    "3* tup_01"
   ]
  },
  {
   "cell_type": "code",
   "execution_count": 37,
   "id": "f7c627bd",
   "metadata": {},
   "outputs": [
    {
     "data": {
      "text/plain": [
       "(9.75, ' Zeeshan', False)"
      ]
     },
     "execution_count": 37,
     "metadata": {},
     "output_type": "execute_result"
    }
   ],
   "source": [
    "tup_02[1:]"
   ]
  },
  {
   "cell_type": "code",
   "execution_count": 38,
   "id": "51aae875",
   "metadata": {},
   "outputs": [
    {
     "data": {
      "text/plain": [
       "'Muhammad Zeeshan'"
      ]
     },
     "execution_count": 38,
     "metadata": {},
     "output_type": "execute_result"
    }
   ],
   "source": [
    "tup_01[2] + tup_02[2]"
   ]
  },
  {
   "cell_type": "code",
   "execution_count": 41,
   "id": "bb42938a",
   "metadata": {},
   "outputs": [],
   "source": [
    "tup_03 = (2,8,45)"
   ]
  },
  {
   "cell_type": "code",
   "execution_count": 43,
   "id": "06eb9e8c",
   "metadata": {},
   "outputs": [
    {
     "data": {
      "text/plain": [
       "2"
      ]
     },
     "execution_count": 43,
     "metadata": {},
     "output_type": "execute_result"
    }
   ],
   "source": [
    "min (tup_03)\n"
   ]
  },
  {
   "cell_type": "code",
   "execution_count": 49,
   "id": "db02ab03",
   "metadata": {},
   "outputs": [
    {
     "data": {
      "text/plain": [
       "45"
      ]
     },
     "execution_count": 49,
     "metadata": {},
     "output_type": "execute_result"
    }
   ],
   "source": [
    "max (tup_03)"
   ]
  },
  {
   "cell_type": "markdown",
   "id": "97866103",
   "metadata": {},
   "source": [
    "# 02- LIST:\n",
    "### . List is an ordered collection of elements.\n",
    "### . It is enclosed by Square braces [ ] .\n",
    "### . List is Mutable."
   ]
  },
  {
   "cell_type": "code",
   "execution_count": null,
   "id": "006a8f7f",
   "metadata": {},
   "outputs": [],
   "source": []
  },
  {
   "cell_type": "raw",
   "id": "cd5ac608",
   "metadata": {},
   "source": []
  },
  {
   "cell_type": "code",
   "execution_count": 57,
   "id": "fa12fbaa",
   "metadata": {},
   "outputs": [],
   "source": [
    "lst_01 = [2,4,6,8,10]\n",
    "lst_02 = [1,3,5,7,9]"
   ]
  },
  {
   "cell_type": "code",
   "execution_count": 58,
   "id": "98715f2e",
   "metadata": {},
   "outputs": [
    {
     "data": {
      "text/plain": [
       "[2, 4, 6, 8, 10]"
      ]
     },
     "execution_count": 58,
     "metadata": {},
     "output_type": "execute_result"
    }
   ],
   "source": [
    "lst_01\n"
   ]
  },
  {
   "cell_type": "code",
   "execution_count": null,
   "id": "90fd5bac",
   "metadata": {},
   "outputs": [],
   "source": []
  },
  {
   "cell_type": "code",
   "execution_count": 59,
   "id": "57c770e5",
   "metadata": {},
   "outputs": [
    {
     "data": {
      "text/plain": [
       "[1, 3, 5, 7, 9]"
      ]
     },
     "execution_count": 59,
     "metadata": {},
     "output_type": "execute_result"
    }
   ],
   "source": [
    "lst_02"
   ]
  },
  {
   "cell_type": "code",
   "execution_count": 60,
   "id": "32c889ec",
   "metadata": {},
   "outputs": [
    {
     "data": {
      "text/plain": [
       "[2, 4, 6, 8, 10, 1, 3, 5, 7, 9]"
      ]
     },
     "execution_count": 60,
     "metadata": {},
     "output_type": "execute_result"
    }
   ],
   "source": [
    "lst_01 + lst_02"
   ]
  },
  {
   "cell_type": "code",
   "execution_count": 61,
   "id": "8f6fb534",
   "metadata": {},
   "outputs": [
    {
     "data": {
      "text/plain": [
       "[2, 4, 6, 8, 10, 2, 4, 6, 8, 10]"
      ]
     },
     "execution_count": 61,
     "metadata": {},
     "output_type": "execute_result"
    }
   ],
   "source": [
    "2*lst_01"
   ]
  },
  {
   "cell_type": "code",
   "execution_count": 63,
   "id": "be82288b",
   "metadata": {},
   "outputs": [
    {
     "data": {
      "text/plain": [
       "2"
      ]
     },
     "execution_count": 63,
     "metadata": {},
     "output_type": "execute_result"
    }
   ],
   "source": [
    "lst_01[0]"
   ]
  },
  {
   "cell_type": "code",
   "execution_count": 65,
   "id": "e035d42e",
   "metadata": {},
   "outputs": [
    {
     "data": {
      "text/plain": [
       "0"
      ]
     },
     "execution_count": 65,
     "metadata": {},
     "output_type": "execute_result"
    }
   ],
   "source": [
    "lst_01.count(5)  # using this we can count any element inthe list."
   ]
  },
  {
   "cell_type": "code",
   "execution_count": 66,
   "id": "ebe46b84",
   "metadata": {},
   "outputs": [],
   "source": [
    "lst_01.append(12)  # using this we can add any member at last of list."
   ]
  },
  {
   "cell_type": "code",
   "execution_count": 67,
   "id": "48f3ea0c",
   "metadata": {},
   "outputs": [
    {
     "data": {
      "text/plain": [
       "[2, 4, 6, 8, 10, 12]"
      ]
     },
     "execution_count": 67,
     "metadata": {},
     "output_type": "execute_result"
    }
   ],
   "source": [
    "lst_01"
   ]
  },
  {
   "cell_type": "code",
   "execution_count": 68,
   "id": "0ef1cbde",
   "metadata": {},
   "outputs": [],
   "source": [
    "lst_01.remove(12)  # using this we can remover any memeber of list"
   ]
  },
  {
   "cell_type": "code",
   "execution_count": 69,
   "id": "eea0f43f",
   "metadata": {},
   "outputs": [
    {
     "data": {
      "text/plain": [
       "[2, 4, 6, 8, 10]"
      ]
     },
     "execution_count": 69,
     "metadata": {},
     "output_type": "execute_result"
    }
   ],
   "source": [
    "lst_01"
   ]
  },
  {
   "cell_type": "code",
   "execution_count": 70,
   "id": "90f9977d",
   "metadata": {},
   "outputs": [],
   "source": [
    "lst_01.reverse()"
   ]
  },
  {
   "cell_type": "code",
   "execution_count": 71,
   "id": "4ebda69e",
   "metadata": {},
   "outputs": [
    {
     "data": {
      "text/plain": [
       "[10, 8, 6, 4, 2]"
      ]
     },
     "execution_count": 71,
     "metadata": {},
     "output_type": "execute_result"
    }
   ],
   "source": [
    "lst_01\n"
   ]
  },
  {
   "cell_type": "code",
   "execution_count": 72,
   "id": "2655ee87",
   "metadata": {},
   "outputs": [],
   "source": [
    "lst_01.reverse()  # this command reverse the order of list."
   ]
  },
  {
   "cell_type": "code",
   "execution_count": 73,
   "id": "0baf329c",
   "metadata": {},
   "outputs": [
    {
     "data": {
      "text/plain": [
       "[2, 4, 6, 8, 10]"
      ]
     },
     "execution_count": 73,
     "metadata": {},
     "output_type": "execute_result"
    }
   ],
   "source": [
    "lst_01"
   ]
  },
  {
   "cell_type": "code",
   "execution_count": 76,
   "id": "e221720c",
   "metadata": {},
   "outputs": [],
   "source": [
    "lst_01.clear()  # clear remove all values from list."
   ]
  },
  {
   "cell_type": "code",
   "execution_count": 77,
   "id": "451b7bd3",
   "metadata": {},
   "outputs": [
    {
     "data": {
      "text/plain": [
       "[]"
      ]
     },
     "execution_count": 77,
     "metadata": {},
     "output_type": "execute_result"
    }
   ],
   "source": [
    "lst_01"
   ]
  },
  {
   "cell_type": "code",
   "execution_count": 78,
   "id": "d3914754",
   "metadata": {},
   "outputs": [
    {
     "data": {
      "text/plain": [
       "[1, 3, 5, 7, 9]"
      ]
     },
     "execution_count": 78,
     "metadata": {},
     "output_type": "execute_result"
    }
   ],
   "source": [
    "lst_02"
   ]
  },
  {
   "cell_type": "code",
   "execution_count": 82,
   "id": "7b744162",
   "metadata": {},
   "outputs": [
    {
     "data": {
      "text/plain": [
       "[1, 3, 5, 7, 9]"
      ]
     },
     "execution_count": 82,
     "metadata": {},
     "output_type": "execute_result"
    }
   ],
   "source": [
    "lst_02.copy()  # using this we can copy a list .\n"
   ]
  },
  {
   "cell_type": "code",
   "execution_count": 85,
   "id": "aab57293",
   "metadata": {},
   "outputs": [],
   "source": [
    "lst_03 = lst_02.copy()   # Copy command."
   ]
  },
  {
   "cell_type": "code",
   "execution_count": 86,
   "id": "cf7d3135",
   "metadata": {},
   "outputs": [
    {
     "data": {
      "text/plain": [
       "[1, 3, 5, 7, 9]"
      ]
     },
     "execution_count": 86,
     "metadata": {},
     "output_type": "execute_result"
    }
   ],
   "source": [
    "lst_03"
   ]
  },
  {
   "cell_type": "code",
   "execution_count": null,
   "id": "cae418e4",
   "metadata": {},
   "outputs": [],
   "source": []
  },
  {
   "cell_type": "code",
   "execution_count": 96,
   "id": "a9f08543",
   "metadata": {},
   "outputs": [],
   "source": [
    "lst_02.insert(1,2) # it is used to insert element between the list \n",
    "                   # Here we gives value 2 at index position 1.\n",
    "                   # Index position always start from 0."
   ]
  },
  {
   "cell_type": "code",
   "execution_count": 98,
   "id": "8c2b46ad",
   "metadata": {},
   "outputs": [
    {
     "data": {
      "text/plain": [
       "[1, 2, 2, 2, 3, 5, 7, 9]"
      ]
     },
     "execution_count": 98,
     "metadata": {},
     "output_type": "execute_result"
    }
   ],
   "source": [
    "lst_02"
   ]
  },
  {
   "cell_type": "code",
   "execution_count": 108,
   "id": "1254d9e5",
   "metadata": {},
   "outputs": [],
   "source": [
    "lst_02.remove(2)"
   ]
  },
  {
   "cell_type": "code",
   "execution_count": 109,
   "id": "df5a8b1b",
   "metadata": {},
   "outputs": [
    {
     "data": {
      "text/plain": [
       "[1, 3, 5, 7, 9]"
      ]
     },
     "execution_count": 109,
     "metadata": {},
     "output_type": "execute_result"
    }
   ],
   "source": [
    "lst_02"
   ]
  },
  {
   "cell_type": "code",
   "execution_count": 115,
   "id": "388cf966",
   "metadata": {},
   "outputs": [],
   "source": [
    "lst_02.sort()  # is is used to sorting list increasing or decreasing order."
   ]
  },
  {
   "cell_type": "code",
   "execution_count": 116,
   "id": "ad9ef91d",
   "metadata": {},
   "outputs": [
    {
     "data": {
      "text/plain": [
       "[1, 3, 5, 7, 9]"
      ]
     },
     "execution_count": 116,
     "metadata": {},
     "output_type": "execute_result"
    }
   ],
   "source": [
    "lst_02"
   ]
  },
  {
   "cell_type": "markdown",
   "id": "a4e7b67f",
   "metadata": {},
   "source": [
    "## Dictionaries:\n",
    ".  Its an unordered collection of element.\n",
    "\n",
    ". There are two main things KEY and Value.\n",
    "\n",
    ". it is enclosed by curly brackets.\n",
    "\n",
    ". it is mutable."
   ]
  },
  {
   "cell_type": "code",
   "execution_count": 130,
   "id": "50d25b1d",
   "metadata": {},
   "outputs": [],
   "source": [
    "# Foods and Prices.\n",
    "food1 = {\"samosa\":30, \"pakora\":20, \"salad\":10,\"chicken roll\":40}"
   ]
  },
  {
   "cell_type": "code",
   "execution_count": 131,
   "id": "401352d9",
   "metadata": {},
   "outputs": [
    {
     "data": {
      "text/plain": [
       "{'samosa': 30, 'pakora': 20, 'salad': 10, 'chicken roll': 40}"
      ]
     },
     "execution_count": 131,
     "metadata": {},
     "output_type": "execute_result"
    }
   ],
   "source": [
    "food1"
   ]
  },
  {
   "cell_type": "code",
   "execution_count": 132,
   "id": "baae61d5",
   "metadata": {},
   "outputs": [
    {
     "data": {
      "text/plain": [
       "dict_keys(['samosa', 'pakora', 'salad', 'chicken roll'])"
      ]
     },
     "execution_count": 132,
     "metadata": {},
     "output_type": "execute_result"
    }
   ],
   "source": [
    "#extract data.\n",
    "food1.keys()"
   ]
  },
  {
   "cell_type": "code",
   "execution_count": null,
   "id": "eb3f45d4",
   "metadata": {},
   "outputs": [],
   "source": []
  },
  {
   "cell_type": "code",
   "execution_count": null,
   "id": "a86b8796",
   "metadata": {},
   "outputs": [],
   "source": []
  },
  {
   "cell_type": "code",
   "execution_count": 134,
   "id": "30d4282e",
   "metadata": {},
   "outputs": [
    {
     "data": {
      "text/plain": [
       "dict_values([30, 20, 10, 40])"
      ]
     },
     "execution_count": 134,
     "metadata": {},
     "output_type": "execute_result"
    }
   ],
   "source": [
    "food1.values()"
   ]
  },
  {
   "cell_type": "code",
   "execution_count": 137,
   "id": "7b9c2383",
   "metadata": {},
   "outputs": [
    {
     "data": {
      "text/plain": [
       "{'samosa': 30, 'pakora': 20, 'salad': 10, 'chicken roll': 40}"
      ]
     },
     "execution_count": 137,
     "metadata": {},
     "output_type": "execute_result"
    }
   ],
   "source": [
    "food1"
   ]
  },
  {
   "cell_type": "code",
   "execution_count": 146,
   "id": "66489bd7",
   "metadata": {},
   "outputs": [
    {
     "data": {
      "text/plain": [
       "{'samosa': 30, 'pakora': 20, 'salad': 10, 'chicken roll': 40}"
      ]
     },
     "execution_count": 146,
     "metadata": {},
     "output_type": "execute_result"
    }
   ],
   "source": [
    "food1"
   ]
  },
  {
   "cell_type": "code",
   "execution_count": 140,
   "id": "359f634b",
   "metadata": {},
   "outputs": [
    {
     "data": {
      "text/plain": [
       "{'samosa': 30, 'pakora': 20, 'salad': 10, 'chicken roll': 40}"
      ]
     },
     "execution_count": 140,
     "metadata": {},
     "output_type": "execute_result"
    }
   ],
   "source": [
    "food1"
   ]
  },
  {
   "cell_type": "code",
   "execution_count": 149,
   "id": "d9a02d73",
   "metadata": {},
   "outputs": [],
   "source": [
    "food1[\"tikki\"]=45 # How to add value in dictionaries.\n"
   ]
  },
  {
   "cell_type": "code",
   "execution_count": 150,
   "id": "11106bb7",
   "metadata": {},
   "outputs": [
    {
     "data": {
      "text/plain": [
       "{'samosa': 30, 'pakora': 20, 'salad': 10, 'chicken roll': 40, 'tikki': 45}"
      ]
     },
     "execution_count": 150,
     "metadata": {},
     "output_type": "execute_result"
    }
   ],
   "source": [
    "food1"
   ]
  },
  {
   "cell_type": "code",
   "execution_count": 151,
   "id": "dc9cad93",
   "metadata": {},
   "outputs": [],
   "source": [
    "food2 = {\"dates\":50, \"savayyan\":50}"
   ]
  },
  {
   "cell_type": "code",
   "execution_count": 152,
   "id": "3541f876",
   "metadata": {},
   "outputs": [
    {
     "data": {
      "text/plain": [
       "{'dates': 50, 'savayyan': 50}"
      ]
     },
     "execution_count": 152,
     "metadata": {},
     "output_type": "execute_result"
    }
   ],
   "source": [
    "food2"
   ]
  },
  {
   "cell_type": "code",
   "execution_count": 157,
   "id": "53b90d3f",
   "metadata": {},
   "outputs": [],
   "source": [
    "food1.update(food2) # this is how to concatenate two dictionaries."
   ]
  },
  {
   "cell_type": "code",
   "execution_count": 158,
   "id": "99be5262",
   "metadata": {},
   "outputs": [
    {
     "data": {
      "text/plain": [
       "{'samosa': 30,\n",
       " 'pakora': 20,\n",
       " 'salad': 10,\n",
       " 'chicken roll': 40,\n",
       " 'tikki': 45,\n",
       " 'dates': 50,\n",
       " 'savayyan': 50}"
      ]
     },
     "execution_count": 158,
     "metadata": {},
     "output_type": "execute_result"
    }
   ],
   "source": [
    "food1"
   ]
  },
  {
   "cell_type": "markdown",
   "id": "486eb0a0",
   "metadata": {},
   "source": [
    "## SETS.\n",
    ". a well defined unorderes arrangement of elements.\n",
    "\n",
    ".it is enclosed by curly braces.\n",
    "\n",
    ".There is no duplicate allow.\n",
    ".\n",
    ". Set dont print boolean and repeated value."
   ]
  },
  {
   "cell_type": "code",
   "execution_count": 175,
   "id": "138f5e08",
   "metadata": {},
   "outputs": [],
   "source": [
    "s1= {1,5,2.5,5,5,\"zee\"}"
   ]
  },
  {
   "cell_type": "markdown",
   "id": "a9fa5aaa",
   "metadata": {},
   "source": [
    "##### s1"
   ]
  },
  {
   "cell_type": "code",
   "execution_count": 176,
   "id": "7c8d73ce",
   "metadata": {},
   "outputs": [
    {
     "data": {
      "text/plain": [
       "set"
      ]
     },
     "execution_count": 176,
     "metadata": {},
     "output_type": "execute_result"
    }
   ],
   "source": [
    "type(s1)"
   ]
  },
  {
   "cell_type": "code",
   "execution_count": 177,
   "id": "d14f9ae7",
   "metadata": {},
   "outputs": [
    {
     "data": {
      "text/plain": [
       "{1, 2.5, 5, 'zee'}"
      ]
     },
     "execution_count": 177,
     "metadata": {},
     "output_type": "execute_result"
    }
   ],
   "source": [
    "s1"
   ]
  },
  {
   "cell_type": "code",
   "execution_count": 178,
   "id": "29a2f1bc",
   "metadata": {},
   "outputs": [
    {
     "data": {
      "text/plain": [
       "{1, 2.5, 5, 'zee'}"
      ]
     },
     "execution_count": 178,
     "metadata": {},
     "output_type": "execute_result"
    }
   ],
   "source": [
    "s1"
   ]
  },
  {
   "cell_type": "code",
   "execution_count": null,
   "id": "537954a9",
   "metadata": {},
   "outputs": [],
   "source": []
  },
  {
   "cell_type": "code",
   "execution_count": 181,
   "id": "adef5dda",
   "metadata": {},
   "outputs": [],
   "source": [
    "s1.add(7) # USE Add command to add elements."
   ]
  },
  {
   "cell_type": "markdown",
   "id": "0d3c8cd7",
   "metadata": {},
   "source": [
    "s1"
   ]
  },
  {
   "cell_type": "code",
   "execution_count": 182,
   "id": "dac3793f",
   "metadata": {},
   "outputs": [
    {
     "data": {
      "text/plain": [
       "{1, 2.5, 5, 7, 'zee'}"
      ]
     },
     "execution_count": 182,
     "metadata": {},
     "output_type": "execute_result"
    }
   ],
   "source": [
    "s1"
   ]
  },
  {
   "cell_type": "code",
   "execution_count": null,
   "id": "2abd1407",
   "metadata": {},
   "outputs": [],
   "source": []
  }
 ],
 "metadata": {
  "kernelspec": {
   "display_name": "Python 3 (ipykernel)",
   "language": "python",
   "name": "python3"
  },
  "language_info": {
   "codemirror_mode": {
    "name": "ipython",
    "version": 3
   },
   "file_extension": ".py",
   "mimetype": "text/x-python",
   "name": "python",
   "nbconvert_exporter": "python",
   "pygments_lexer": "ipython3",
   "version": "3.9.7"
  }
 },
 "nbformat": 4,
 "nbformat_minor": 5
}
