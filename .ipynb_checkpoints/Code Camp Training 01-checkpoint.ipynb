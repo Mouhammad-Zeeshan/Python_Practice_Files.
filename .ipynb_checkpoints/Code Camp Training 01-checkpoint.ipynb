{
 "cells": [
  {
   "cell_type": "markdown",
   "id": "2628b234",
   "metadata": {},
   "source": [
    "# Python Begineer."
   ]
  },
  {
   "cell_type": "markdown",
   "id": "2cc9becb",
   "metadata": {},
   "source": [
    "## Lecture 01."
   ]
  },
  {
   "cell_type": "code",
   "execution_count": null,
   "id": "e41672a4",
   "metadata": {},
   "outputs": [],
   "source": []
  },
  {
   "cell_type": "code",
   "execution_count": 2,
   "id": "dc79c8d0",
   "metadata": {},
   "outputs": [
    {
     "name": "stdout",
     "output_type": "stream",
     "text": [
      "\"Hello World\"\n"
     ]
    }
   ],
   "source": [
    "print('\"Hello World\"')"
   ]
  },
  {
   "cell_type": "markdown",
   "id": "4cd54aa4",
   "metadata": {},
   "source": [
    "$ a^2 + b^2 = c$      \n",
    "\n",
    ".This is how to write math eqns in note book.\n",
    "\n",
    ". We use $ (Dollar) sign start and end of Statement  \n",
    " \n",
    " \n"
   ]
  },
  {
   "cell_type": "code",
   "execution_count": 10,
   "id": "48336153",
   "metadata": {},
   "outputs": [],
   "source": [
    "y = 5\n",
    "x = 3"
   ]
  },
  {
   "cell_type": "code",
   "execution_count": 11,
   "id": "56f0d7f0",
   "metadata": {},
   "outputs": [
    {
     "name": "stdout",
     "output_type": "stream",
     "text": [
      "8\n"
     ]
    }
   ],
   "source": [
    "print(x+y)"
   ]
  },
  {
   "cell_type": "code",
   "execution_count": 16,
   "id": "991e9dd6",
   "metadata": {},
   "outputs": [
    {
     "name": "stdout",
     "output_type": "stream",
     "text": [
      "Variable   Type    Data/Info\n",
      "----------------------------\n",
      "x          int     3\n",
      "y          int     5\n"
     ]
    }
   ],
   "source": [
    "%whos        # This is how to check stored variables details."
   ]
  },
  {
   "cell_type": "code",
   "execution_count": 17,
   "id": "91880707",
   "metadata": {},
   "outputs": [
    {
     "name": "stdout",
     "output_type": "stream",
     "text": [
      "<class 'int'>\n"
     ]
    }
   ],
   "source": [
    "print(type(x))"
   ]
  },
  {
   "cell_type": "code",
   "execution_count": 18,
   "id": "f7692fa7",
   "metadata": {},
   "outputs": [],
   "source": [
    "z = 2.5"
   ]
  },
  {
   "cell_type": "code",
   "execution_count": 20,
   "id": "52b2a644",
   "metadata": {},
   "outputs": [
    {
     "name": "stdout",
     "output_type": "stream",
     "text": [
      "<class 'float'>\n"
     ]
    }
   ],
   "source": [
    "print(type(z))"
   ]
  },
  {
   "cell_type": "code",
   "execution_count": 25,
   "id": "14f5ef51",
   "metadata": {},
   "outputs": [],
   "source": [
    "a,b,c,d = 2,2.5,\"Hello\",2.0"
   ]
  },
  {
   "cell_type": "code",
   "execution_count": 26,
   "id": "cb911a13",
   "metadata": {},
   "outputs": [
    {
     "name": "stdout",
     "output_type": "stream",
     "text": [
      "Variable   Type     Data/Info\n",
      "-----------------------------\n",
      "a          int      2\n",
      "b          float    2.5\n",
      "c          str      Hello\n",
      "d          float    2.0\n",
      "x          int      3\n",
      "y          int      5\n",
      "z          float    2.5\n"
     ]
    }
   ],
   "source": [
    "%whos"
   ]
  },
  {
   "cell_type": "code",
   "execution_count": 27,
   "id": "701a6811",
   "metadata": {},
   "outputs": [
    {
     "name": "stdout",
     "output_type": "stream",
     "text": [
      "2 2.5\n"
     ]
    }
   ],
   "source": [
    "print(a,b)"
   ]
  },
  {
   "cell_type": "code",
   "execution_count": 28,
   "id": "18ed8ee5",
   "metadata": {},
   "outputs": [],
   "source": [
    "del(x)"
   ]
  },
  {
   "cell_type": "code",
   "execution_count": 29,
   "id": "1318e9af",
   "metadata": {},
   "outputs": [
    {
     "name": "stdout",
     "output_type": "stream",
     "text": [
      "Variable   Type     Data/Info\n",
      "-----------------------------\n",
      "a          int      2\n",
      "b          float    2.5\n",
      "c          str      Hello\n",
      "d          float    2.0\n",
      "y          int      5\n",
      "z          float    2.5\n"
     ]
    }
   ],
   "source": [
    "%whos"
   ]
  },
  {
   "cell_type": "code",
   "execution_count": null,
   "id": "b47c1361",
   "metadata": {},
   "outputs": [],
   "source": []
  },
  {
   "cell_type": "code",
   "execution_count": 31,
   "id": "4c8b486c",
   "metadata": {},
   "outputs": [],
   "source": [
    "u=2+3j"
   ]
  },
  {
   "cell_type": "code",
   "execution_count": 33,
   "id": "ef7fe163",
   "metadata": {},
   "outputs": [
    {
     "name": "stdout",
     "output_type": "stream",
     "text": [
      "<class 'complex'>\n"
     ]
    }
   ],
   "source": [
    "print(type(u))        # We can store complex numbers too."
   ]
  },
  {
   "cell_type": "code",
   "execution_count": null,
   "id": "5be2088c",
   "metadata": {},
   "outputs": [],
   "source": []
  },
  {
   "cell_type": "markdown",
   "id": "0425e841",
   "metadata": {},
   "source": [
    "## Lecture 02."
   ]
  },
  {
   "cell_type": "code",
   "execution_count": null,
   "id": "2b97df47",
   "metadata": {},
   "outputs": [],
   "source": [
    " "
   ]
  },
  {
   "cell_type": "code",
   "execution_count": 34,
   "id": "c2b73707",
   "metadata": {},
   "outputs": [],
   "source": [
    "sumofaAndb = a + b"
   ]
  },
  {
   "cell_type": "code",
   "execution_count": 35,
   "id": "9901c22a",
   "metadata": {},
   "outputs": [
    {
     "name": "stdout",
     "output_type": "stream",
     "text": [
      "4.5\n"
     ]
    }
   ],
   "source": [
    "print(sumofaAndb)"
   ]
  },
  {
   "cell_type": "code",
   "execution_count": 36,
   "id": "8b0d93c0",
   "metadata": {},
   "outputs": [
    {
     "data": {
      "text/plain": [
       "float"
      ]
     },
     "execution_count": 36,
     "metadata": {},
     "output_type": "execute_result"
    }
   ],
   "source": [
    "type(sumofaAndb)"
   ]
  },
  {
   "cell_type": "code",
   "execution_count": 37,
   "id": "5c84e1fd",
   "metadata": {},
   "outputs": [],
   "source": [
    "s1 = \"Hello\"\n",
    "s2 = \" World\""
   ]
  },
  {
   "cell_type": "code",
   "execution_count": 38,
   "id": "573920f1",
   "metadata": {},
   "outputs": [
    {
     "data": {
      "text/plain": [
       "'Hello World'"
      ]
     },
     "execution_count": 38,
     "metadata": {},
     "output_type": "execute_result"
    }
   ],
   "source": [
    "s1+s2"
   ]
  },
  {
   "cell_type": "code",
   "execution_count": 39,
   "id": "774c71ea",
   "metadata": {},
   "outputs": [
    {
     "name": "stdout",
     "output_type": "stream",
     "text": [
      "Hello World\n"
     ]
    }
   ],
   "source": [
    "print(_)   # This is how to use last result."
   ]
  },
  {
   "cell_type": "code",
   "execution_count": null,
   "id": "1464b997",
   "metadata": {},
   "outputs": [],
   "source": []
  },
  {
   "cell_type": "markdown",
   "id": "c373ee32",
   "metadata": {},
   "source": [
    "## Lecture 03."
   ]
  },
  {
   "cell_type": "code",
   "execution_count": null,
   "id": "d409b5ee",
   "metadata": {},
   "outputs": [],
   "source": []
  },
  {
   "cell_type": "code",
   "execution_count": 43,
   "id": "6040b7aa",
   "metadata": {},
   "outputs": [],
   "source": [
    "_e = 525        # We can start a variable with under score.\n"
   ]
  },
  {
   "cell_type": "code",
   "execution_count": 44,
   "id": "271da69d",
   "metadata": {},
   "outputs": [
    {
     "name": "stdout",
     "output_type": "stream",
     "text": [
      "525\n"
     ]
    }
   ],
   "source": [
    "print(_e)"
   ]
  },
  {
   "cell_type": "markdown",
   "id": "b81cfd3a",
   "metadata": {},
   "source": [
    "### Camel Notation: \n",
    "startingTimeofTheCourse = Use with small alphabet case to start and use capital letter for each new word."
   ]
  },
  {
   "cell_type": "code",
   "execution_count": 45,
   "id": "3cc62a97",
   "metadata": {},
   "outputs": [
    {
     "data": {
      "text/plain": [
       "True"
      ]
     },
     "execution_count": 45,
     "metadata": {},
     "output_type": "execute_result"
    }
   ],
   "source": [
    "5>3\n"
   ]
  },
  {
   "cell_type": "code",
   "execution_count": 46,
   "id": "e2d8cb30",
   "metadata": {},
   "outputs": [
    {
     "data": {
      "text/plain": [
       "bool"
      ]
     },
     "execution_count": 46,
     "metadata": {},
     "output_type": "execute_result"
    }
   ],
   "source": [
    "type(_)"
   ]
  },
  {
   "cell_type": "code",
   "execution_count": 50,
   "id": "2eaf13cb",
   "metadata": {},
   "outputs": [],
   "source": [
    "l1= \"false\"\n",
    "l2= \"false\""
   ]
  },
  {
   "cell_type": "code",
   "execution_count": 51,
   "id": "1e4f95fe",
   "metadata": {},
   "outputs": [
    {
     "data": {
      "text/plain": [
       "'false'"
      ]
     },
     "execution_count": 51,
     "metadata": {},
     "output_type": "execute_result"
    }
   ],
   "source": [
    "l1 and l2\n"
   ]
  },
  {
   "cell_type": "code",
   "execution_count": 54,
   "id": "b68de9fd",
   "metadata": {},
   "outputs": [],
   "source": [
    "b1 = True\n",
    "b2 = True\n",
    "b3 = False\n",
    "b4 = False"
   ]
  },
  {
   "cell_type": "code",
   "execution_count": 55,
   "id": "ffd72ec0",
   "metadata": {},
   "outputs": [
    {
     "name": "stdout",
     "output_type": "stream",
     "text": [
      "Variable     Type       Data/Info\n",
      "---------------------------------\n",
      "a            int        2\n",
      "a2           int        5\n",
      "b            float      2.5\n",
      "b1           bool       True\n",
      "b2           bool       True\n",
      "b3           bool       False\n",
      "b4           bool       False\n",
      "c            str        Hello\n",
      "d            float      2.0\n",
      "l1           str        false\n",
      "l2           str        false\n",
      "s1           str        Hello\n",
      "s2           str         World\n",
      "sumofaAndb   float      4.5\n",
      "u            complex    (2+3j)\n",
      "y            int        5\n",
      "z            float      2.5\n"
     ]
    }
   ],
   "source": [
    "%whos"
   ]
  },
  {
   "cell_type": "code",
   "execution_count": null,
   "id": "572b10d3",
   "metadata": {},
   "outputs": [],
   "source": []
  },
  {
   "cell_type": "code",
   "execution_count": null,
   "id": "b62f8270",
   "metadata": {},
   "outputs": [],
   "source": []
  },
  {
   "cell_type": "code",
   "execution_count": 58,
   "id": "5edfde47",
   "metadata": {},
   "outputs": [
    {
     "name": "stdout",
     "output_type": "stream",
     "text": [
      "True\n",
      "True\n",
      "False\n",
      "False\n",
      "False\n"
     ]
    }
   ],
   "source": [
    "print(b1 and b1)\n",
    "print(b1 and b2)\n",
    "print(b1 and b3)\n",
    "print(b1 and b4)\n",
    "print(b4 and b4)"
   ]
  },
  {
   "cell_type": "code",
   "execution_count": 59,
   "id": "1b241657",
   "metadata": {},
   "outputs": [
    {
     "name": "stdout",
     "output_type": "stream",
     "text": [
      "True\n",
      "True\n",
      "True\n",
      "True\n",
      "False\n"
     ]
    }
   ],
   "source": [
    "print(b1 or b1)\n",
    "print(b1 or b2)\n",
    "print(b1 or b3)\n",
    "print(b1 or b4)\n",
    "print(b4 or b4)"
   ]
  },
  {
   "cell_type": "code",
   "execution_count": 64,
   "id": "4320456a",
   "metadata": {},
   "outputs": [
    {
     "name": "stdout",
     "output_type": "stream",
     "text": [
      "False\n",
      "True\n"
     ]
    }
   ],
   "source": [
    "print(not b1)\n",
    "print(not b3)"
   ]
  },
  {
   "cell_type": "code",
   "execution_count": 66,
   "id": "28b58b9d",
   "metadata": {},
   "outputs": [
    {
     "name": "stdout",
     "output_type": "stream",
     "text": [
      "True\n",
      "False\n",
      "True\n",
      "True\n"
     ]
    }
   ],
   "source": [
    "print(4==4)\n",
    "print(4!=4)\n",
    "print(4>2)\n",
    "print(3<4)"
   ]
  },
  {
   "cell_type": "code",
   "execution_count": 67,
   "id": "2bd86de3",
   "metadata": {},
   "outputs": [
    {
     "name": "stdout",
     "output_type": "stream",
     "text": [
      "False\n"
     ]
    }
   ],
   "source": [
    "print((not(2!=3) and True) or (False and True))"
   ]
  },
  {
   "cell_type": "markdown",
   "id": "43d6e0c6",
   "metadata": {},
   "source": [
    "## Lecture 04 (Functions).\n",
    "\n"
   ]
  },
  {
   "cell_type": "code",
   "execution_count": 2,
   "id": "53aa8259",
   "metadata": {},
   "outputs": [
    {
     "name": "stdout",
     "output_type": "stream",
     "text": [
      "6\n",
      "5\n",
      "6\n"
     ]
    }
   ],
   "source": [
    "print(round(5.6))\n",
    "print(round(5.4))\n",
    "print(round(5.5))"
   ]
  },
  {
   "cell_type": "code",
   "execution_count": 4,
   "id": "8e28482c",
   "metadata": {},
   "outputs": [
    {
     "name": "stdout",
     "output_type": "stream",
     "text": [
      "5.66\n",
      "5.6479\n"
     ]
    }
   ],
   "source": [
    "print(round(5.656,2))         # Rounding upto 2 Significant Figure.\n",
    "\n",
    "print(round(5.647892,4))"
   ]
  },
  {
   "cell_type": "code",
   "execution_count": 6,
   "id": "ba335dae",
   "metadata": {},
   "outputs": [
    {
     "data": {
      "text/plain": [
       "(4, 1)"
      ]
     },
     "execution_count": 6,
     "metadata": {},
     "output_type": "execute_result"
    }
   ],
   "source": [
    "divmod(25,6)  #This function gives quotient and reminder after division."
   ]
  },
  {
   "cell_type": "code",
   "execution_count": 7,
   "id": "b3db6a7e",
   "metadata": {},
   "outputs": [
    {
     "name": "stdout",
     "output_type": "stream",
     "text": [
      "(9, 0)\n",
      "(3, 6)\n"
     ]
    }
   ],
   "source": [
    "print(divmod(81,9))\n",
    "print(divmod(27,7))"
   ]
  },
  {
   "cell_type": "code",
   "execution_count": 8,
   "id": "12221e44",
   "metadata": {},
   "outputs": [
    {
     "name": "stdout",
     "output_type": "stream",
     "text": [
      "(0, 81)\n"
     ]
    }
   ],
   "source": [
    "print(divmod(81,82))"
   ]
  },
  {
   "cell_type": "code",
   "execution_count": 11,
   "id": "bf8303b5",
   "metadata": {},
   "outputs": [
    {
     "name": "stdout",
     "output_type": "stream",
     "text": [
      "(-9, 0)\n",
      "(-11, 7)\n"
     ]
    }
   ],
   "source": [
    "print(divmod(81,-9))\n",
    "print(divmod(-81,8))"
   ]
  },
  {
   "cell_type": "code",
   "execution_count": 15,
   "id": "a9074072",
   "metadata": {},
   "outputs": [
    {
     "name": "stdout",
     "output_type": "stream",
     "text": [
      "11 1\n"
     ]
    }
   ],
   "source": [
    "print(34//3,34%3)"
   ]
  },
  {
   "cell_type": "code",
   "execution_count": null,
   "id": "e040e0ca",
   "metadata": {},
   "outputs": [],
   "source": []
  },
  {
   "cell_type": "code",
   "execution_count": 18,
   "id": "20acb227",
   "metadata": {},
   "outputs": [
    {
     "name": "stdout",
     "output_type": "stream",
     "text": [
      "True\n"
     ]
    }
   ],
   "source": [
    "print(isinstance(1,int))"
   ]
  },
  {
   "cell_type": "code",
   "execution_count": 21,
   "id": "11d31c7b",
   "metadata": {},
   "outputs": [],
   "source": [
    "# power(x,y,z) function: x raise to power y and remainder by z."
   ]
  },
  {
   "cell_type": "code",
   "execution_count": 24,
   "id": "ff4b25c3",
   "metadata": {},
   "outputs": [
    {
     "name": "stdout",
     "output_type": "stream",
     "text": [
      "8\n"
     ]
    }
   ],
   "source": [
    "print(pow(2,3))"
   ]
  },
  {
   "cell_type": "code",
   "execution_count": 27,
   "id": "7fceeb78",
   "metadata": {},
   "outputs": [
    {
     "name": "stdout",
     "output_type": "stream",
     "text": [
      "2\n"
     ]
    }
   ],
   "source": [
    "print(pow(2,3,3))"
   ]
  },
  {
   "cell_type": "code",
   "execution_count": 29,
   "id": "82a5ff4f",
   "metadata": {},
   "outputs": [],
   "source": [
    "# Input function: a = input (\"Enter something\")\n",
    "# its typr is string."
   ]
  },
  {
   "cell_type": "code",
   "execution_count": 33,
   "id": "f59b6f7b",
   "metadata": {},
   "outputs": [
    {
     "name": "stdout",
     "output_type": "stream",
     "text": [
      "Type your name25\n"
     ]
    }
   ],
   "source": [
    "i = input(\"Type your name\")"
   ]
  },
  {
   "cell_type": "code",
   "execution_count": null,
   "id": "a9773fae",
   "metadata": {},
   "outputs": [],
   "source": []
  },
  {
   "cell_type": "code",
   "execution_count": 34,
   "id": "168c6897",
   "metadata": {},
   "outputs": [
    {
     "data": {
      "text/plain": [
       "str"
      ]
     },
     "execution_count": 34,
     "metadata": {},
     "output_type": "execute_result"
    }
   ],
   "source": [
    "type(i)"
   ]
  },
  {
   "cell_type": "code",
   "execution_count": 35,
   "id": "b6c75ad9",
   "metadata": {},
   "outputs": [
    {
     "name": "stdout",
     "output_type": "stream",
     "text": [
      "Type a number25\n"
     ]
    }
   ],
   "source": [
    "i = int(input(\"Type a number\"))"
   ]
  },
  {
   "cell_type": "code",
   "execution_count": 36,
   "id": "f3b9f666",
   "metadata": {},
   "outputs": [
    {
     "data": {
      "text/plain": [
       "int"
      ]
     },
     "execution_count": 36,
     "metadata": {},
     "output_type": "execute_result"
    }
   ],
   "source": [
    "type (i)"
   ]
  },
  {
   "cell_type": "code",
   "execution_count": 48,
   "id": "e28bb5dc",
   "metadata": {},
   "outputs": [],
   "source": [
    "# **if you want to know about details of any function** \n",
    "# **Then just type that function and question mark.\n",
    "# Like :   pow?, pow is a function.\n",
    "# Help command is also helpful like: help(pow)."
   ]
  },
  {
   "cell_type": "code",
   "execution_count": 49,
   "id": "ab61997d",
   "metadata": {},
   "outputs": [
    {
     "name": "stdout",
     "output_type": "stream",
     "text": [
      "Help on built-in function pow in module builtins:\n",
      "\n",
      "pow(base, exp, mod=None)\n",
      "    Equivalent to base**exp with 2 arguments or base**exp % mod with 3 arguments\n",
      "    \n",
      "    Some types, such as ints, are able to use a more efficient algorithm when\n",
      "    invoked using the three argument form.\n",
      "\n"
     ]
    }
   ],
   "source": [
    " help(pow)"
   ]
  },
  {
   "cell_type": "markdown",
   "id": "3cbe1846",
   "metadata": {},
   "source": [
    "# Lecture 05 (Control Flow):"
   ]
  },
  {
   "cell_type": "markdown",
   "id": "b0d7971f",
   "metadata": {},
   "source": [
    "## Make a programme."
   ]
  },
  {
   "cell_type": "code",
   "execution_count": null,
   "id": "2fba12d8",
   "metadata": {},
   "outputs": [],
   "source": [
    "x1 = float(input())\n",
    "x2 = float(input())\n",
    "if x1>x2:\n",
    "    print(\"The bigger number from\",x1, \"and\",x2,\"is\", x1)\n",
    "elif x1==x2:\n",
    "    print(\"Both numbers are equals.\")    \n",
    "else:\n",
    "        print(\"The bigger number from\",x1, \"and\",x2,\"is\", x2)"
   ]
  },
  {
   "cell_type": "code",
   "execution_count": null,
   "id": "f58a6886",
   "metadata": {},
   "outputs": [],
   "source": []
  }
 ],
 "metadata": {
  "kernelspec": {
   "display_name": "Python 3 (ipykernel)",
   "language": "python",
   "name": "python3"
  },
  "language_info": {
   "codemirror_mode": {
    "name": "ipython",
    "version": 3
   },
   "file_extension": ".py",
   "mimetype": "text/x-python",
   "name": "python",
   "nbconvert_exporter": "python",
   "pygments_lexer": "ipython3",
   "version": "3.9.7"
  }
 },
 "nbformat": 4,
 "nbformat_minor": 5
}
