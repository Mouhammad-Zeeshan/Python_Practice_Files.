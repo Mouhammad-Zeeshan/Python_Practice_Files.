{
 "cells": [
  {
   "cell_type": "code",
   "execution_count": 1,
   "id": "de711487",
   "metadata": {},
   "outputs": [],
   "source": [
    "## We are going to define a function which find minimum value of the list \n",
    "## as well as position of that minimum."
   ]
  },
  {
   "cell_type": "code",
   "execution_count": 49,
   "id": "49379849",
   "metadata": {},
   "outputs": [],
   "source": [
    "def minoflist(L):\n",
    "    m = L[0]\n",
    "    idx= 0\n",
    "    i = 0\n",
    "    c=0\n",
    "\n",
    "    for i in L:\n",
    "        if i<=m:\n",
    "            m = i\n",
    "            idx = c\n",
    "        i = i+1\n",
    "        c = c+1\n",
    "    return m,idx\n",
    "\n",
    "    \n"
   ]
  },
  {
   "cell_type": "code",
   "execution_count": null,
   "id": "217e68bb",
   "metadata": {},
   "outputs": [],
   "source": []
  },
  {
   "cell_type": "code",
   "execution_count": 51,
   "id": "a1af1aac",
   "metadata": {},
   "outputs": [
    {
     "data": {
      "text/plain": [
       "(-9, 2)"
      ]
     },
     "execution_count": 51,
     "metadata": {},
     "output_type": "execute_result"
    }
   ],
   "source": [
    "minoflist([5,-5,-9,45])"
   ]
  },
  {
   "cell_type": "code",
   "execution_count": null,
   "id": "c0b9f867",
   "metadata": {},
   "outputs": [],
   "source": []
  },
  {
   "cell_type": "code",
   "execution_count": 45,
   "id": "49f3a400",
   "metadata": {},
   "outputs": [],
   "source": [
    "## SWap : \n"
   ]
  },
  {
   "cell_type": "code",
   "execution_count": 70,
   "id": "4c0031e1",
   "metadata": {},
   "outputs": [],
   "source": [
    "def swapvalue(L,idx1,idx2):\n",
    "    tmp = L[idx1]\n",
    "    L[idx1] = L[idx2]\n",
    "    L[idx2] = tmp\n",
    "    return L"
   ]
  },
  {
   "cell_type": "code",
   "execution_count": 72,
   "id": "45b4c032",
   "metadata": {},
   "outputs": [
    {
     "data": {
      "text/plain": [
       "[5, 9, 4, 3]"
      ]
     },
     "execution_count": 72,
     "metadata": {},
     "output_type": "execute_result"
    }
   ],
   "source": [
    "swapvalue([5,3,4,9],1,3)"
   ]
  },
  {
   "cell_type": "markdown",
   "id": "3ae344d5",
   "metadata": {},
   "source": [
    "# String:"
   ]
  },
  {
   "cell_type": "code",
   "execution_count": null,
   "id": "2915b65f",
   "metadata": {},
   "outputs": [],
   "source": []
  },
  {
   "cell_type": "code",
   "execution_count": null,
   "id": "42947492",
   "metadata": {},
   "outputs": [],
   "source": []
  }
 ],
 "metadata": {
  "kernelspec": {
   "display_name": "Python 3 (ipykernel)",
   "language": "python",
   "name": "python3"
  },
  "language_info": {
   "codemirror_mode": {
    "name": "ipython",
    "version": 3
   },
   "file_extension": ".py",
   "mimetype": "text/x-python",
   "name": "python",
   "nbconvert_exporter": "python",
   "pygments_lexer": "ipython3",
   "version": "3.9.7"
  }
 },
 "nbformat": 4,
 "nbformat_minor": 5
}
