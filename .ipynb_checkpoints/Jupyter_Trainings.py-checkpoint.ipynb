{
 "cells": [
  {
   "cell_type": "markdown",
   "id": "079bf8d3",
   "metadata": {},
   "source": [
    "# TESTING JUPYTER NOTE BOOK.\n"
   ]
  },
  {
   "cell_type": "markdown",
   "id": "3f757658",
   "metadata": {},
   "source": [
    "## Ch-01: Operator\n"
   ]
  },
  {
   "cell_type": "code",
   "execution_count": 3,
   "id": "a62a5dff",
   "metadata": {},
   "outputs": [
    {
     "name": "stdout",
     "output_type": "stream",
     "text": [
      "Hello World\n",
      "5\n",
      "-2\n",
      "18\n",
      "4.0\n",
      "2\n",
      "8\n",
      "3\n",
      "8.0\n"
     ]
    }
   ],
   "source": [
    "print(\"Hello World\")\n",
    "# Here we are performing some basic Mathematicals operation.\n",
    "print(2+3)            #Addition  \n",
    "\n",
    "print(3-5)            #Subtraction\n",
    "\n",
    "print(2*9)            #Multiplication\n",
    "\n",
    "print(8/2)            #Floating Division\n",
    "\n",
    "print(8//3)           #Integer Division\n",
    "\n",
    "print(2**3)           #Exponent or Power\n",
    "\n",
    "print(8%5)            #Modulo Function or it gives reminder after division\n",
    "\n",
    "print(2+9*4/6)        #Python use BODMAS rule.\n"
   ]
  },
  {
   "cell_type": "markdown",
   "id": "b42ac574",
   "metadata": {},
   "source": [
    "## Ch-02: Strings."
   ]
  },
  {
   "cell_type": "code",
   "execution_count": 1,
   "id": "8d47a044",
   "metadata": {},
   "outputs": [
    {
     "name": "stdout",
     "output_type": "stream",
     "text": [
      "Muhammad Zeesahn\n",
      "Muhamamd Zeeshan\n",
      "Muhammad Zeeshan\n",
      "Zeeshan's Laptop\n",
      "Zeesahn's \"Laptop\"\n",
      "Zeeshan's \"Laptop\" \n",
      "Muhammad \n",
      "Zeeshan\n",
      "ZeeZeeZeeZeeZeeZeeZeeZeeZeeZee\n"
     ]
    }
   ],
   "source": [
    "#STRINGS:   A Strings is a colllection of letters/ Alphabet. Its also writes in Parenthesis thats are Double Quote and Sigle Quote repectively \"\", \"\" .\n",
    "\n",
    "print(\"Muhammad Zeesahn\")\n",
    "\n",
    "print(\"Muhamamd\" + \" Zeeshan\")              #We can add two strings as well and it shows like this Muhammad Zeseahn.\n",
    "\n",
    "print('Muhammad Zeeshan')                   # string can also be written in single quote.\n",
    "\n",
    "# WE USE SINGLE AND DOUBLE QUOTES ACCORDING TO OUR FEASIBILITY.\n",
    "\n",
    "print(\"Zeeshan's Laptop\")                   #Here we used single and double quotes according to our feasibility.\n",
    "\n",
    "print ('Zeesahn\\'s \"Laptop\"' )              #Here we use symbol \\ to skip special meaning of single quote.\n",
    "\n",
    "print(\"Zeeshan's \\\"Laptop\\\" \")              #Here is another way to write the above code.\n",
    "\n",
    "print(\"Muhammad \\nZeeshan\")                 #We used \\n to start new line as shown in terminal window.\n",
    "\n",
    "\"zeeshan\"                                   #We can write string like this as well and its shows 'zeeshan' in terminal window.\n",
    "\n",
    "10* \"Zee\"                                  #We can repeat same string as many time as we want by multiplying string by integer.\n",
    "\n",
    "\n",
    "print(10*\"Zee\")                            #We can repeat like this also.\n",
    "\n",
    "\n"
   ]
  },
  {
   "cell_type": "code",
   "execution_count": null,
   "id": "d01a766d",
   "metadata": {},
   "outputs": [],
   "source": []
  },
  {
   "cell_type": "markdown",
   "id": "4dffde7e",
   "metadata": {},
   "source": [
    "## Ch-03: Comments."
   ]
  },
  {
   "cell_type": "code",
   "execution_count": 2,
   "id": "b7395124",
   "metadata": {},
   "outputs": [
    {
     "name": "stdout",
     "output_type": "stream",
     "text": [
      "Hello World!\n"
     ]
    }
   ],
   "source": [
    "\n",
    "#COMMENTS:  A comment is a text which we use to gives description during the coding. IDE does not print comments text\n",
    "# as a code. It's shortcut key is ctrl + / or # symbol. if we apply comment before any text then python shows it as \n",
    "# text instead of code like.\n",
    "# \n",
    "# print(\"Hello World\")    It is a comment that's why it is not printing in terminal window.\n",
    "# \n",
    "#   \n",
    "\n",
    "print(\"Hello World!\")\n",
    "\n"
   ]
  },
  {
   "cell_type": "code",
   "execution_count": null,
   "id": "7fef4d14",
   "metadata": {},
   "outputs": [],
   "source": []
  },
  {
   "cell_type": "markdown",
   "id": "17f37d71",
   "metadata": {},
   "source": [
    "## Ch-04: Variables."
   ]
  },
  {
   "cell_type": "code",
   "execution_count": 3,
   "id": "fe30a5b1",
   "metadata": {},
   "outputs": [
    {
     "ename": "SyntaxError",
     "evalue": "cannot assign to literal (Temp/ipykernel_12388/2542196187.py, line 25)",
     "output_type": "error",
     "traceback": [
      "\u001b[1;36m  File \u001b[1;32m\"C:\\Users\\MUHAMM~1\\AppData\\Local\\Temp/ipykernel_12388/2542196187.py\"\u001b[1;36m, line \u001b[1;32m25\u001b[0m\n\u001b[1;33m    5 = \" ZEESHAN\"      #We can not a variable like this\u001b[0m\n\u001b[1;37m    ^\u001b[0m\n\u001b[1;31mSyntaxError\u001b[0m\u001b[1;31m:\u001b[0m cannot assign to literal\n"
     ]
    }
   ],
   "source": [
    "\n",
    "###VARIABLES: We can use Variable to store something.\n",
    "\n",
    "my_name = \"Zeeshan\"   #Here we stored or saved a name Zeeshan as variable (my_name).\n",
    "\n",
    "  \n",
    "print(my_name)        #IF we print my_name python show it's stored or assign value.\n",
    "\n",
    "##A VARIABLE CAN BE AN ALPHABET OR STRING BUT NOT A NUMBER OR STRING STARTING WITH NUMBER AS SHOWN BELOW.\n",
    "## RULES TO ASSIGN A VARIABLE:\n",
    "#01 - The variables should contains letters, numbers or underscores(instead of Space).\n",
    "#02 - DO not start with numbers.\n",
    "#03 - Spaces are not allowed.\n",
    "#04 - Dont use such keyword which already used for python like (len, del, type etc).\n",
    "#05- A variable should be short and descriptive.\n",
    "#06 - Variable is case sensitive.\n",
    "\n",
    "\n",
    "\n",
    "x  = \"Zeeshan\"\n",
    "y = \" ALtaf\"\n",
    "\n",
    "print(x,y)\n",
    "\n",
    "\n",
    "5 = \" ZEESHAN\"      #We can not a variable like this \n",
    "\n",
    "01-name = \"Zeeshan\"   # We can't also not defined variable like this.\n",
    "\n",
    "name_01 = \"Zeeshan\"  # BUT We can define variable like this number after string.\n",
    "\n",
    "\n",
    "\n",
    "x = 10\n",
    "print (x+5)\n",
    "\n",
    "###TYPE FUNCTION: Type function is a function which is use to check type of code either string, integes or else.\n",
    "\n",
    "x = \"Muhammad Zeeshan\"\n",
    "y = 505\n",
    "z = 10.45\n",
    "\n",
    "\n",
    "print (type(x))                 #it is class string \n",
    "print (type(y))                 #it is class integer\n",
    "print (type(z))                 #it is class flat.\n",
    "\n",
    "\n",
    "###LENGHT FUNCTION:  A lenght (len) function is used to check lenght of string. \n",
    "\n",
    "len(x)                   #MUhammad Zeeshan has 16 letters including space.\n",
    "\n",
    "\n",
    "#____________________________________________________________________________________________#"
   ]
  },
  {
   "cell_type": "code",
   "execution_count": null,
   "id": "91511beb",
   "metadata": {},
   "outputs": [],
   "source": []
  },
  {
   "cell_type": "markdown",
   "id": "954be69c",
   "metadata": {},
   "source": [
    "## Ch-05: Conditional Logics."
   ]
  },
  {
   "cell_type": "code",
   "execution_count": 4,
   "id": "357e656d",
   "metadata": {},
   "outputs": [
    {
     "data": {
      "text/plain": [
       "False"
      ]
     },
     "execution_count": 4,
     "metadata": {},
     "output_type": "execute_result"
    }
   ],
   "source": [
    "\n",
    "###CONDITIONAL LOGICS:\n",
    "## There are different logics\n",
    "#01 - Equal to                        ==\n",
    "#02 - Not equal to                    !=\n",
    "#03 - Less than                        <\n",
    "#04 - Greater than                     >\n",
    "#05 - Less than equal to               <=\n",
    "#06 - Greater than equal to            >=\n",
    "\n",
    "##CONDITIONAL OPERATORS ARE ALWAYS TRUE FALSE, YES NO OR 0 1.\n",
    "\n",
    "4 == 4\n",
    "5 !=5          # 5 is not equal to 5. \n",
    "5 < 6\n",
    "5 < 4\n",
    "\n",
    "5<=6\n",
    "5>=6\n",
    "#_______________________________________________________@\n",
    "\n",
    "\n"
   ]
  }
 ],
 "metadata": {
  "kernelspec": {
   "display_name": "Python 3 (ipykernel)",
   "language": "python",
   "name": "python3"
  },
  "language_info": {
   "codemirror_mode": {
    "name": "ipython",
    "version": 3
   },
   "file_extension": ".py",
   "mimetype": "text/x-python",
   "name": "python",
   "nbconvert_exporter": "python",
   "pygments_lexer": "ipython3",
   "version": "3.9.7"
  }
 },
 "nbformat": 4,
 "nbformat_minor": 5
}
