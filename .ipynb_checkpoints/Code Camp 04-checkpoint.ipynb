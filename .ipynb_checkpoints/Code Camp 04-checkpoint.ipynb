{
 "cells": [
  {
   "cell_type": "code",
   "execution_count": 1,
   "id": "bbe5fb30",
   "metadata": {},
   "outputs": [
    {
     "name": "stdout",
     "output_type": "stream",
     "text": [
      "Enter a number please: 45\n",
      "45\n",
      "Number is not even\n"
     ]
    }
   ],
   "source": [
    "x = float(input(\"Enter a number please: \"))\n",
    "\n",
    "\n",
    "if x>0:\n",
    "    y = round(x)\n",
    "    if y>x: \n",
    "        integer1 = y-1   \n",
    "    else:\n",
    "        integer1 = y\n",
    "    print(integer1)\n",
    "\n",
    "else:\n",
    "    z = round(x * (-1))\n",
    "    if z>(x*-1): \n",
    "        integer1 = z-1   \n",
    "    else:\n",
    "        integer1 = z\n",
    "    print(\"-\", integer1)\n",
    "\n",
    "if integer1%2==0:\n",
    "    print(\"NUmber is even\")\n",
    "else:\n",
    "    print(\"Number is not even\")\n"
   ]
  },
  {
   "cell_type": "code",
   "execution_count": null,
   "id": "95e8e043",
   "metadata": {},
   "outputs": [],
   "source": [
    "x = float(input(\"Enter a number please: \"))\n",
    "\n",
    "\n",
    "if x>0:\n",
    "    y = round(x)\n",
    "    if y>x: \n",
    "        integer1 = y-1   \n",
    "    else:\n",
    "        integer1 = y\n",
    "    \n",
    "\n",
    "else:\n",
    "    z = round(x * (-1))\n",
    "    if z>(x*-1): \n",
    "        integer1 = z-1   \n",
    "    else:\n",
    "        integer1 = z\n",
    "    \n",
    "\n",
    "if integer1%2==0:\n",
    "    print(\"NUmber is even\")\n",
    "else:\n",
    "    print(\"Number is not even\")\n"
   ]
  },
  {
   "cell_type": "code",
   "execution_count": null,
   "id": "d62d5c71",
   "metadata": {},
   "outputs": [],
   "source": []
  },
  {
   "cell_type": "markdown",
   "id": "b8212b11",
   "metadata": {},
   "source": [
    "## While Loops."
   ]
  },
  {
   "cell_type": "code",
   "execution_count": null,
   "id": "4d1a117e",
   "metadata": {},
   "outputs": [],
   "source": [
    "n = int(input(\"Enter a number\"))\n",
    "\n",
    "i = 0\n",
    "while i <= n:\n",
    "\n",
    "    print(\"This is Itteration : \", i)\n",
    "    i = i + 1\n",
    "    \n",
    "else:\n",
    "    print(\"Done\")"
   ]
  },
  {
   "cell_type": "code",
   "execution_count": null,
   "id": "f7e159a8",
   "metadata": {},
   "outputs": [],
   "source": [
    "n = int(input(\"Enter a number\"))\n",
    "\n",
    "i = 0\n",
    "while i <= n:\n",
    "\n",
    "    print(\"Zeeshan\", i)\n",
    "    i = i + 1.5\n",
    "\n",
    "else:\n",
    "    print(\"Done\")"
   ]
  },
  {
   "cell_type": "code",
   "execution_count": null,
   "id": "a59a8678",
   "metadata": {},
   "outputs": [],
   "source": []
  },
  {
   "cell_type": "markdown",
   "id": "bdf6633f",
   "metadata": {},
   "source": [
    "## Loops And Pass (Pass meaning do nothing)."
   ]
  },
  {
   "cell_type": "code",
   "execution_count": null,
   "id": "d4a395af",
   "metadata": {},
   "outputs": [],
   "source": [
    "n = int(input(\"Enter a number\"))\n",
    "\n",
    "i = 0\n",
    "while i <= n:\n",
    "    \n",
    "    if i%2 == 0:\n",
    "        print(\"This is an even itteration\", i)\n",
    "    else:\n",
    "        pass\n",
    "    \n",
    "    i = i + 1\n",
    "    \n",
    "else:\n",
    "    print(\"Done\")"
   ]
  },
  {
   "cell_type": "markdown",
   "id": "45bd6bf9",
   "metadata": {},
   "source": [
    "## Loops, Break and Continue."
   ]
  },
  {
   "cell_type": "markdown",
   "id": "db9671ab",
   "metadata": {},
   "source": [
    "### Break means exit the loop imediately.\n",
    "### Continue (Skip the remaining body of the loops ans start next itteration."
   ]
  },
  {
   "cell_type": "code",
   "execution_count": null,
   "id": "09d13ded",
   "metadata": {},
   "outputs": [],
   "source": [
    "help()"
   ]
  },
  {
   "cell_type": "code",
   "execution_count": null,
   "id": "102d825b",
   "metadata": {},
   "outputs": [],
   "source": []
  },
  {
   "cell_type": "code",
   "execution_count": 22,
   "id": "7ea09a00",
   "metadata": {},
   "outputs": [
    {
     "name": "stdout",
     "output_type": "stream",
     "text": [
      "Enter a number6\n",
      "Zeeshan 6\n",
      "Zeeshan 7\n",
      "Zeeshan 8\n",
      "Zeeshan 9\n",
      "Loop Done\n"
     ]
    }
   ],
   "source": [
    "i= int(input(\"Enter a number\"))\n",
    "\n",
    "\n",
    "while i < 10: \n",
    "    if i == 5 :\n",
    "         break\n",
    "    \n",
    "    print(\"Zeeshan\", i )\n",
    "    i = i+1\n",
    "\n",
    "\n",
    "    \n",
    "else:\n",
    "        print(\"Loop Done\")\n",
    " "
   ]
  },
  {
   "cell_type": "code",
   "execution_count": null,
   "id": "b3c38884",
   "metadata": {},
   "outputs": [],
   "source": []
  },
  {
   "cell_type": "code",
   "execution_count": null,
   "id": "da60eaff",
   "metadata": {},
   "outputs": [],
   "source": []
  },
  {
   "cell_type": "code",
   "execution_count": 11,
   "id": "36672c8e",
   "metadata": {},
   "outputs": [
    {
     "name": "stdout",
     "output_type": "stream",
     "text": [
      "enter a number: 5\n",
      "Zee 5\n",
      "Shan 5\n",
      "Zee 6\n",
      "Shan 6\n"
     ]
    }
   ],
   "source": [
    "i = int(input(\"enter a number: \"))\n",
    "\n",
    "while i <= 6:\n",
    "    print(\"Zee\", i)\n",
    "    if i ==4:\n",
    "        continue\n",
    "   \n",
    "    print(\"Shan\", i)\n",
    "    i = i+1\n",
    "    \n",
    "    \n",
    "\n",
    "\n",
    " \n",
    "    "
   ]
  },
  {
   "cell_type": "code",
   "execution_count": null,
   "id": "c4f7248a",
   "metadata": {},
   "outputs": [],
   "source": []
  },
  {
   "cell_type": "code",
   "execution_count": 9,
   "id": "63a311fa",
   "metadata": {},
   "outputs": [
    {
     "name": "stdout",
     "output_type": "stream",
     "text": [
      "enter a number please-5\n",
      "Zee -5\n",
      "Zee -4\n",
      "Zee -3\n",
      "Zee -2\n",
      "Zee -1\n",
      "Zee 0\n",
      "Zee 1\n",
      "Zee 2\n",
      "Zee 3\n",
      "Zee 4\n",
      "Out of Loop\n"
     ]
    }
   ],
   "source": [
    "i = int(input(\"enter a number please\"))\n",
    "\n",
    "while i < 10:\n",
    "    if i==5:\n",
    "    \n",
    "        break\n",
    "    print(\"Zee\", i)\n",
    "    i+=1\n",
    "print(\"Out of Loop\")"
   ]
  },
  {
   "cell_type": "code",
   "execution_count": 2,
   "id": "1df89070",
   "metadata": {},
   "outputs": [
    {
     "name": "stdout",
     "output_type": "stream",
     "text": [
      "enter a number please9\n",
      "Zee 9\n",
      "shan 9\n",
      "Out of Loop\n"
     ]
    }
   ],
   "source": [
    "i = int(input(\"enter a number please\"))\n",
    "\n",
    "while i < 10:\n",
    "    print(\"Zee\", i)\n",
    "    if i==5:\n",
    "        continue\n",
    "    print(\"shan\", i)\n",
    "    i+=1\n",
    "print(\"Out of Loop\")"
   ]
  },
  {
   "cell_type": "code",
   "execution_count": null,
   "id": "cf215e25",
   "metadata": {},
   "outputs": [],
   "source": []
  },
  {
   "cell_type": "markdown",
   "id": "06d3a703",
   "metadata": {},
   "source": [
    " ## For Loop."
   ]
  },
  {
   "cell_type": "code",
   "execution_count": null,
   "id": "898a231c",
   "metadata": {},
   "outputs": [],
   "source": [
    "\n",
    "\n"
   ]
  },
  {
   "cell_type": "code",
   "execution_count": 7,
   "id": "f3f560ea",
   "metadata": {},
   "outputs": [
    {
     "data": {
      "text/plain": [
       "[2, 3, 4]"
      ]
     },
     "execution_count": 7,
     "metadata": {},
     "output_type": "execute_result"
    }
   ],
   "source": [
    "l = [2,3,4]\n",
    "l\n"
   ]
  },
  {
   "cell_type": "code",
   "execution_count": 8,
   "id": "13faa0df",
   "metadata": {},
   "outputs": [
    {
     "data": {
      "text/plain": [
       "4"
      ]
     },
     "execution_count": 8,
     "metadata": {},
     "output_type": "execute_result"
    }
   ],
   "source": [
    "l[2]"
   ]
  },
  {
   "cell_type": "code",
   "execution_count": 13,
   "id": "e33e839f",
   "metadata": {},
   "outputs": [
    {
     "name": "stdout",
     "output_type": "stream",
     "text": [
      "0\n",
      "1\n",
      "4\n",
      "9\n",
      "16\n"
     ]
    }
   ],
   "source": [
    "for i in range(5):\n",
    "    print(i**2)\n",
    "\n",
    "    "
   ]
  },
  {
   "cell_type": "code",
   "execution_count": 4,
   "id": "98315d0d",
   "metadata": {},
   "outputs": [
    {
     "data": {
      "text/plain": [
       "[5, 6, 9, 1, 6]"
      ]
     },
     "execution_count": 4,
     "metadata": {},
     "output_type": "execute_result"
    }
   ],
   "source": [
    "l = [5,6,9,1,6]\n",
    "l"
   ]
  },
  {
   "cell_type": "code",
   "execution_count": 6,
   "id": "ef83ac6a",
   "metadata": {},
   "outputs": [
    {
     "data": {
      "text/plain": [
       "[1, 5, 6, 6, 9]"
      ]
     },
     "execution_count": 6,
     "metadata": {},
     "output_type": "execute_result"
    }
   ],
   "source": [
    "l"
   ]
  },
  {
   "cell_type": "code",
   "execution_count": 8,
   "id": "0e070147",
   "metadata": {},
   "outputs": [],
   "source": [
    "l[3]=7\n",
    "\n"
   ]
  },
  {
   "cell_type": "code",
   "execution_count": 9,
   "id": "f7c9eef9",
   "metadata": {},
   "outputs": [
    {
     "data": {
      "text/plain": [
       "[1, 5, 6, 7, 9]"
      ]
     },
     "execution_count": 9,
     "metadata": {},
     "output_type": "execute_result"
    }
   ],
   "source": [
    "l\n"
   ]
  },
  {
   "cell_type": "markdown",
   "id": "6b9ec273",
   "metadata": {},
   "source": [
    "## Defining function:\n"
   ]
  },
  {
   "cell_type": "code",
   "execution_count": null,
   "id": "b2646a46",
   "metadata": {},
   "outputs": [],
   "source": [
    "\n"
   ]
  },
  {
   "cell_type": "code",
   "execution_count": 19,
   "id": "99bba5be",
   "metadata": {},
   "outputs": [],
   "source": [
    "def myfunction():\n",
    "    print(\"The Task was Successful\")\n",
    "    print(\"Moving to the next task\")\n",
    "    print(\"Sent me to the next task\")"
   ]
  },
  {
   "cell_type": "code",
   "execution_count": 20,
   "id": "ef7b8f88",
   "metadata": {},
   "outputs": [
    {
     "name": "stdout",
     "output_type": "stream",
     "text": [
      "The Task was Successful\n",
      "Moving to the next task\n",
      "Sent me to the next task\n"
     ]
    }
   ],
   "source": [
    "myfunction()"
   ]
  },
  {
   "cell_type": "code",
   "execution_count": null,
   "id": "8f0215f4",
   "metadata": {},
   "outputs": [],
   "source": []
  },
  {
   "cell_type": "code",
   "execution_count": null,
   "id": "a5a0b45c",
   "metadata": {},
   "outputs": [],
   "source": [
    "\n"
   ]
  },
  {
   "cell_type": "code",
   "execution_count": null,
   "id": "f462633a",
   "metadata": {},
   "outputs": [],
   "source": []
  },
  {
   "cell_type": "code",
   "execution_count": 27,
   "id": "6acad06c",
   "metadata": {},
   "outputs": [],
   "source": [
    "def myfunction(): \n",
    "    \n",
    "    # This is doing nothing except printing a message.\n",
    "    print(\"Hello World\")"
   ]
  },
  {
   "cell_type": "code",
   "execution_count": 28,
   "id": "dc56ded4",
   "metadata": {},
   "outputs": [
    {
     "name": "stdout",
     "output_type": "stream",
     "text": [
      "Hello World\n"
     ]
    }
   ],
   "source": [
    "myfunction(\n",
    ")"
   ]
  },
  {
   "cell_type": "code",
   "execution_count": 29,
   "id": "b1cbfedf",
   "metadata": {},
   "outputs": [
    {
     "name": "stdout",
     "output_type": "stream",
     "text": [
      "The Task was Successful\n",
      "Moving to the next task\n",
      "Sent me to the next task\n"
     ]
    }
   ],
   "source": [
    "printSuccess()"
   ]
  },
  {
   "cell_type": "code",
   "execution_count": 65,
   "id": "48ad3df4",
   "metadata": {},
   "outputs": [],
   "source": [
    "def printmsg(m1):\n",
    "    if isinstance(m1,str):\n",
    "        print(m1+\" You are Welcome.\")\n",
    "    else:\n",
    "        print(\"your command is invalid\")\n",
    "        \n",
    "    \n",
    "    "
   ]
  },
  {
   "cell_type": "code",
   "execution_count": 66,
   "id": "abca0a52",
   "metadata": {},
   "outputs": [
    {
     "name": "stdout",
     "output_type": "stream",
     "text": [
      "Zeeshan You are Welcome.\n"
     ]
    }
   ],
   "source": [
    "printmsg(\"Zeeshan\")\n"
   ]
  },
  {
   "cell_type": "code",
   "execution_count": 75,
   "id": "85bd50fa",
   "metadata": {},
   "outputs": [],
   "source": [
    "def printmsg(m2,m3):\n",
    "    print(m2, \"S/D/O\", m3)"
   ]
  },
  {
   "cell_type": "code",
   "execution_count": 73,
   "id": "a4dbb16d",
   "metadata": {},
   "outputs": [
    {
     "name": "stdout",
     "output_type": "stream",
     "text": [
      "Muhammad Zeeshan Muhammad Altaf\n"
     ]
    }
   ],
   "source": [
    "print(\"Muhammad Zeeshan\", \"Muhammad Altaf\")"
   ]
  },
  {
   "cell_type": "code",
   "execution_count": 76,
   "id": "bb3c7619",
   "metadata": {},
   "outputs": [],
   "source": [
    "def pow(a,b):\n",
    "    c = a**b\n",
    "    print(c)"
   ]
  },
  {
   "cell_type": "code",
   "execution_count": 77,
   "id": "9ebe23fd",
   "metadata": {},
   "outputs": [
    {
     "name": "stdout",
     "output_type": "stream",
     "text": [
      "32\n"
     ]
    }
   ],
   "source": [
    "pow(2,5)"
   ]
  },
  {
   "cell_type": "code",
   "execution_count": 78,
   "id": "2213bdbc",
   "metadata": {},
   "outputs": [],
   "source": [
    "def smadd(a,b,c):\n",
    "    x = (a+b)**c\n",
    "    print(x)"
   ]
  },
  {
   "cell_type": "code",
   "execution_count": 85,
   "id": "4ed69937",
   "metadata": {},
   "outputs": [
    {
     "name": "stdout",
     "output_type": "stream",
     "text": [
      "5\n"
     ]
    }
   ],
   "source": [
    "smadd(2,3,1)"
   ]
  },
  {
   "cell_type": "code",
   "execution_count": null,
   "id": "fe72d7c7",
   "metadata": {},
   "outputs": [],
   "source": []
  },
  {
   "cell_type": "code",
   "execution_count": 86,
   "id": "bb6692ec",
   "metadata": {},
   "outputs": [],
   "source": [
    "def smadd(a,b):\n",
    "    return(a**b)"
   ]
  },
  {
   "cell_type": "code",
   "execution_count": 87,
   "id": "e7fd5255",
   "metadata": {},
   "outputs": [
    {
     "data": {
      "text/plain": [
       "8"
      ]
     },
     "execution_count": 87,
     "metadata": {},
     "output_type": "execute_result"
    }
   ],
   "source": [
    "smadd(2,3\n",
    "     )"
   ]
  },
  {
   "cell_type": "code",
   "execution_count": 17,
   "id": "2c05b5d2",
   "metadata": {},
   "outputs": [],
   "source": []
  },
  {
   "cell_type": "code",
   "execution_count": 21,
   "id": "8abaaacb",
   "metadata": {},
   "outputs": [
    {
     "name": "stdout",
     "output_type": "stream",
     "text": [
      "17\n"
     ]
    }
   ],
   "source": [
    "addall(2,5,1,0,9)\n"
   ]
  },
  {
   "cell_type": "code",
   "execution_count": 20,
   "id": "ea6d66e6",
   "metadata": {},
   "outputs": [
    {
     "name": "stdout",
     "output_type": "stream",
     "text": [
      "7\n"
     ]
    }
   ],
   "source": [
    "addall(2,5)"
   ]
  },
  {
   "cell_type": "code",
   "execution_count": 22,
   "id": "b0acf211",
   "metadata": {},
   "outputs": [
    {
     "name": "stdout",
     "output_type": "stream",
     "text": [
      "93.5\n"
     ]
    }
   ],
   "source": [
    "addall(2,4.5,-4,78,+9,4)"
   ]
  },
  {
   "cell_type": "code",
   "execution_count": 24,
   "id": "1383b830",
   "metadata": {},
   "outputs": [
    {
     "name": "stdout",
     "output_type": "stream",
     "text": [
      "-16\n"
     ]
    }
   ],
   "source": [
    "addall(-8,-8)"
   ]
  },
  {
   "cell_type": "code",
   "execution_count": null,
   "id": "eaa4cdd6",
   "metadata": {},
   "outputs": [],
   "source": []
  },
  {
   "cell_type": "code",
   "execution_count": 25,
   "id": "c1e00af8",
   "metadata": {},
   "outputs": [],
   "source": [
    " l =[2,5,4]"
   ]
  },
  {
   "cell_type": "code",
   "execution_count": 26,
   "id": "6a47196a",
   "metadata": {},
   "outputs": [
    {
     "data": {
      "text/plain": [
       "[2, 5, 4]"
      ]
     },
     "execution_count": 26,
     "metadata": {},
     "output_type": "execute_result"
    }
   ],
   "source": [
    "l\n"
   ]
  },
  {
   "cell_type": "code",
   "execution_count": 27,
   "id": "5e53478c",
   "metadata": {},
   "outputs": [],
   "source": [
    "l[0]= 5"
   ]
  },
  {
   "cell_type": "code",
   "execution_count": 28,
   "id": "3846b6e6",
   "metadata": {},
   "outputs": [
    {
     "data": {
      "text/plain": [
       "[5, 5, 4]"
      ]
     },
     "execution_count": 28,
     "metadata": {},
     "output_type": "execute_result"
    }
   ],
   "source": [
    "l"
   ]
  },
  {
   "cell_type": "code",
   "execution_count": 35,
   "id": "75360d3a",
   "metadata": {},
   "outputs": [],
   "source": [
    " def productall(*values):\n",
    "        s=1\n",
    "        for i in range(len(values)):\n",
    "            s = s  * values [i]\n",
    "        print (s)\n",
    "        "
   ]
  },
  {
   "cell_type": "code",
   "execution_count": 36,
   "id": "47865543",
   "metadata": {},
   "outputs": [
    {
     "name": "stdout",
     "output_type": "stream",
     "text": [
      "40\n"
     ]
    }
   ],
   "source": [
    "productall(2,5,4)"
   ]
  },
  {
   "cell_type": "code",
   "execution_count": null,
   "id": "2770beda",
   "metadata": {},
   "outputs": [],
   "source": []
  }
 ],
 "metadata": {
  "kernelspec": {
   "display_name": "Python 3 (ipykernel)",
   "language": "python",
   "name": "python3"
  },
  "language_info": {
   "codemirror_mode": {
    "name": "ipython",
    "version": 3
   },
   "file_extension": ".py",
   "mimetype": "text/x-python",
   "name": "python",
   "nbconvert_exporter": "python",
   "pygments_lexer": "ipython3",
   "version": "3.9.7"
  }
 },
 "nbformat": 4,
 "nbformat_minor": 5
}
