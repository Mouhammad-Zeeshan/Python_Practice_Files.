{
 "cells": [
  {
   "cell_type": "code",
   "execution_count": 3,
   "id": "777edb58",
   "metadata": {},
   "outputs": [
    {
     "name": "stdout",
     "output_type": "stream",
     "text": [
      "please enter marks: 65\n",
      "B Grade\n"
     ]
    }
   ],
   "source": [
    "marks = int(input(\"please enter marks: \"))\n",
    "if marks >= 80:\n",
    "    print(\"A-1 Grade\")\n",
    "elif marks >=70:\n",
    "    print(\"A Grade\")\n",
    "elif marks >=60:\n",
    "    print(\"B Grade\")\n",
    "elif marks >= 50:\n",
    "    print(\"C Grade\")\n",
    "else:\n",
    "    print(\"Fails\")"
   ]
  },
  {
   "cell_type": "markdown",
   "id": "ab32ab99",
   "metadata": {},
   "source": [
    "## Nested If."
   ]
  },
  {
   "cell_type": "code",
   "execution_count": 34,
   "id": "615345c6",
   "metadata": {},
   "outputs": [
    {
     "name": "stdout",
     "output_type": "stream",
     "text": [
      "Please enter your age:  30\n",
      "Congratulations Your are 30 years old and you can get this offer.\n",
      "Congratulations Your are 30 years old and you can get this offer.\n"
     ]
    }
   ],
   "source": [
    "age = int(input(\"Please enter your age:  \"))\n",
    "\n",
    "if age>= 10:\n",
    "    print(\"Congratulations\", \"Your are\" ,age, \"years old and you can get this offer.\")\n",
    "    \n",
    "    if age <=20:\n",
    "            print(\"Congratulations\", \"Your are\" ,age, \"years old and you can get this offer.\")\n",
    "            \n",
    "    elif age <=30:\n",
    "        print(\"Congratulations\", \"Your are\" ,age, \"years old and you can get this offer.\")\n",
    "        \n",
    "    elif age <=40:\n",
    "            print(\"Congratulations\", \"Your are\" ,age, \"years old and you can get this offer.\")\n",
    "    elif age ==50:\n",
    "            print(\"Congratulations\", \"Your are\" ,age, \"years old and you can get this offer.\")\n",
    "    elif age>50:\n",
    "        print(\"Sorry you are out of age for this offer.\")\n",
    "else:\n",
    "    print(\"Sorry you cant avail this.\")"
   ]
  },
  {
   "cell_type": "code",
   "execution_count": null,
   "id": "41f4a890",
   "metadata": {},
   "outputs": [],
   "source": []
  },
  {
   "cell_type": "code",
   "execution_count": 38,
   "id": "313671a5",
   "metadata": {},
   "outputs": [
    {
     "ename": "SyntaxError",
     "evalue": "EOL while scanning string literal (Temp/ipykernel_9792/2752704120.py, line 5)",
     "output_type": "error",
     "traceback": [
      "\u001b[1;36m  File \u001b[1;32m\"C:\\Users\\MUHAMM~1\\AppData\\Local\\Temp/ipykernel_9792/2752704120.py\"\u001b[1;36m, line \u001b[1;32m5\u001b[0m\n\u001b[1;33m    \"\"\"\"\u001b[0m\n\u001b[1;37m        \n^\u001b[0m\n\u001b[1;31mSyntaxError\u001b[0m\u001b[1;31m:\u001b[0m EOL while scanning string literal\n"
     ]
    }
   ],
   "source": [
    "# Comment: \n",
    "# \"\"\"user will enter a floating point number let say 238.915. your task is to \n",
    "# find out the the integer bertion before the point (in this case it is 238).\n",
    "# and then check whether it integer portion is an even number or not?.\n",
    "# \"\"\"\""
   ]
  },
  {
   "cell_type": "code",
   "execution_count": 39,
   "id": "32cfbaaa",
   "metadata": {},
   "outputs": [
    {
     "name": "stdout",
     "output_type": "stream",
     "text": [
      "Variable   Type    Data/Info\n",
      "----------------------------\n",
      "age        int     30\n"
     ]
    }
   ],
   "source": [
    "%whos"
   ]
  },
  {
   "cell_type": "code",
   "execution_count": null,
   "id": "36d3a72c",
   "metadata": {},
   "outputs": [],
   "source": []
  },
  {
   "cell_type": "code",
   "execution_count": null,
   "id": "38caa314",
   "metadata": {},
   "outputs": [],
   "source": [
    "x = float(input(\"Enter a number pleas: \"))\n",
    "y = round(x)\n",
    "\n",
    "if x>0:\n",
    "    \n",
    "    if y>x:\n",
    "    z1 = y-x\n",
    "    int = z1+x-1\n",
    "    print(int)\n",
    "    \n",
    "    \n",
    "else:\n",
    "    print(\"Number is not even\")"
   ]
  },
  {
   "cell_type": "code",
   "execution_count": null,
   "id": "b60563e9",
   "metadata": {},
   "outputs": [],
   "source": []
  },
  {
   "cell_type": "code",
   "execution_count": null,
   "id": "aa220570",
   "metadata": {},
   "outputs": [],
   "source": []
  }
 ],
 "metadata": {
  "kernelspec": {
   "display_name": "Python 3 (ipykernel)",
   "language": "python",
   "name": "python3"
  },
  "language_info": {
   "codemirror_mode": {
    "name": "ipython",
    "version": 3
   },
   "file_extension": ".py",
   "mimetype": "text/x-python",
   "name": "python",
   "nbconvert_exporter": "python",
   "pygments_lexer": "ipython3",
   "version": "3.9.7"
  }
 },
 "nbformat": 4,
 "nbformat_minor": 5
}
